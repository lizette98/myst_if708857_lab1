{
 "cells": [
  {
   "cell_type": "markdown",
   "metadata": {},
   "source": [
    "<img src=http://oci02.img.iteso.mx/identidad_de_instancia_2018/ITESO/Logos%20ITESO/Logo-ITESO-Principal.jpg>"
   ]
  },
  {
   "cell_type": "markdown",
   "metadata": {},
   "source": [
    "<center><font color=#555555><font size=6> Ingeniería Financiera </font> <br> <br>\n",
    "<center><font color=#555555><font size=5> Microestructura y Sistemas de Trading </font> <br> <br> <br>\n",
    "<center><font color=#555555><font size=5> I.F. Andrea Lizette Contreras González </font> <br> <br>\n",
    "    <center><font color= #555555> <font size = 4> 13 de Septiembe 2020 </a> | <font color= #555555> <font size=4> Repositorio: <a href='https://github.com/lizette98/myst_if708857_lab1'>Lab1</a></font> <br> <br> <br> <br> <br> <br> <br>"
   ]
  },
  {
   "cell_type": "markdown",
   "metadata": {},
   "source": [
    "<center><font color=#555555><font size=8> Laboratorio 1 </font> <br> <br>\n",
    "<center><font color=#555555><font size=5> Inversión del Capital </font> <br> <br>"
   ]
  },
  {
   "cell_type": "markdown",
   "metadata": {},
   "source": [
    "<font color= #555555> <font size = 5> **Abstract** </font>\n",
    "    \n",
    "<font color= #6B6B6B> <font size = 2> Este documento fue elaborado por Andrea Lizette Contreras González, como un trabajo parcial para la materia de Microestructura y Sistemas de Trading - ITE1731, la cual es parte del curriculum de la licenciatura en Ingeniería Financiera, ofertada por la universidad ITESO. En el presente trabajo se plantea la respuesta a la siguiente pregutna: ¿Qué estrategia de inversión propondrías si tu trabajo fuera administrar 1 Millón de pesos?</font>"
   ]
  },
  {
   "cell_type": "markdown",
   "metadata": {},
   "source": [
    "<font color= #6B6B6B> <font size = 6> **0. Librerías y Dependencias** </font>"
   ]
  },
  {
   "cell_type": "markdown",
   "metadata": {},
   "source": [
    "------------------------"
   ]
  },
  {
   "cell_type": "markdown",
   "metadata": {},
   "source": [
    "<font color= #6B6B6B> <font size = 5> **0.1 Librerías** </font> <font color= #555555>\n",
    "    \n",
    "    \n",
    "Para correr este notebook es necesario tener instaladas y/o en el archivo requirements.txt las siguientes librerías : <br><br>\n",
    "\n",
    "- pandas>=1.1.1\n",
    "- numpy>=1.19.1\n",
    "- jupyter>=1.0.0\n",
    "- yfinance>=0.1.54\n",
    "- plotly>=4.10.0"
   ]
  },
  {
   "cell_type": "markdown",
   "metadata": {},
   "source": [
    "\n",
    "<font color= #6B6B6B> <font size = 5> **0.2 Dependencias** </font> <font color= #555555>\n",
    "    \n",
    "    \n",
    "Para correr este notebook es necesario contar con los siguientes archivos y dependencias externas: <br><br>\n",
    "    \n",
    "    \n",
    "\n",
    "* files/NAFTRAC_holdings : Precios históricos en NAFTRAC\n",
    "* files/datos.txt : Otros datos históricos"
   ]
  },
  {
   "cell_type": "markdown",
   "metadata": {
    "pycharm": {
     "name": "#%% md\n"
    }
   },
   "source": [
    "<font color= #6B6B6B> <font size = 6> **1. Introducción** </font>"
   ]
  },
  {
   "cell_type": "markdown",
   "metadata": {},
   "source": [
    "***"
   ]
  },
  {
   "cell_type": "markdown",
   "metadata": {},
   "source": [
    "<font color= #6B6B6B> <font size = 2>En este laboratorio se muestran dos estrategias para la inversión de capital:\n",
    "- Inversión Pasiva\n",
    "- Inversión Activa\n",
    "\n",
    "El ejemplo que se muestra es del NAFTRAC, el cual es un ETF que replica el comportamiento del S&P/BMV IPC, se proponen estas dos estrategias para analizar cuál aporta mayor rendimiento. </font>"
   ]
  },
  {
   "cell_type": "markdown",
   "metadata": {
    "pycharm": {
     "name": "#%% md\n"
    }
   },
   "source": [
    "<font color= #6B6B6B> <font size = 6> **2. Objetivos** </font>"
   ]
  },
  {
   "cell_type": "markdown",
   "metadata": {},
   "source": [
    "***"
   ]
  },
  {
   "cell_type": "markdown",
   "metadata": {},
   "source": [
    "<font color= #6B6B6B> <font size = 5> **2.1 Objetivo General** </font>"
   ]
  },
  {
   "cell_type": "markdown",
   "metadata": {},
   "source": [
    "<font color= #6B6B6B> <font size = 2>Analizar la diferencia entre invertir de manera pasiva y activa, evaluando el rendimiento de ambas inversiones en el ETF NAFRAC para las mismas fechas.</font>"
   ]
  },
  {
   "cell_type": "markdown",
   "metadata": {},
   "source": [
    "<font color= #6B6B6B> <font size = 5> **2.2 Objetivos Específicos** </font>"
   ]
  },
  {
   "cell_type": "markdown",
   "metadata": {},
   "source": [
    "<font color= #6B6B6B> <font size = 2></font>\n",
    "- Descargar y leer precios necesarios para el análisis de ambas posturas.\n",
    "- Limpieza de datos obtenidos.\n",
    "- Descargar precios de yahoo finance.\n",
    "- Calcular la evolución de la inversión pasiva.\n",
    "- Calcular la evolución de la inversión activa.\n",
    "- Crear histórico de operaciones (Inversión Activa).\n",
    "- Calcular medidas de atribución al desempeño.\n",
    "- Documentar algoritmo en jupyter notebook. "
   ]
  },
  {
   "cell_type": "markdown",
   "metadata": {},
   "source": [
    "<font color= #6B6B6B> <font size = 6> **3. Datos** </font>"
   ]
  },
  {
   "cell_type": "markdown",
   "metadata": {},
   "source": [
    "***"
   ]
  },
  {
   "cell_type": "markdown",
   "metadata": {},
   "source": [
    "<font color= #6B6B6B> <font size = 2>En este laboratorio se trabajó principalmente con datos del ETF iShares NAFTRAC, los cuales se muestran en la siguiente sección.</font>"
   ]
  },
  {
   "cell_type": "markdown",
   "metadata": {},
   "source": [
    "<font color= #6B6B6B> <font size = 6> **4. Procesos** </font>"
   ]
  },
  {
   "cell_type": "markdown",
   "metadata": {},
   "source": [
    "***"
   ]
  },
  {
   "cell_type": "markdown",
   "metadata": {},
   "source": [
    "<font color= #6B6B6B> <font size = 2>En esta sección se muestra de manera breve y gráfica el procedimiento para analizar cada una de las inversiones mediante funciones creadas en python.</font>"
   ]
  },
  {
   "cell_type": "markdown",
   "metadata": {},
   "source": [
    "<font color= #6B6B6B> <font size = 5> **4.1 Lista de archivos a leer (NAFTRAC)** </font>"
   ]
  },
  {
   "cell_type": "markdown",
   "metadata": {},
   "source": [
    "<font color= #6B6B6B> <font size = 2> Primero, se leen todos los archivos con la información histórica del ETF iShares NAFTRAC, obtenidos de la página oficial de <a href='https://www.blackrock.com/mx/intermediarios/productos/251895/ishares-naftrac-fund'>BlackRock</a></font>\n",
    "    \n",
    "<font color= #6B6B6B> <font size = 2>Estos archivos se guardan en un diccionario:</font>"
   ]
  },
  {
   "cell_type": "code",
   "execution_count": 1,
   "metadata": {},
   "outputs": [],
   "source": [
    "import functions as fn\n",
    "import data as dt"
   ]
  },
  {
   "cell_type": "code",
   "execution_count": 2,
   "metadata": {},
   "outputs": [
    {
     "name": "stdout",
     "output_type": "stream",
     "text": [
      "['NAFTRAC_310118', 'NAFTRAC_280218', 'NAFTRAC_280318', 'NAFTRAC_300418', 'NAFTRAC_310518', 'NAFTRAC_290618']\n"
     ]
    }
   ],
   "source": [
    "archivos = dt.archivos\n",
    "data_archivos = dt.data_archivos\n",
    "print(list(data_archivos.keys())[0:6])"
   ]
  },
  {
   "cell_type": "markdown",
   "metadata": {},
   "source": [
    "<font color= #6B6B6B> <font size = 5> **4.2 Vector de fechas** </font>"
   ]
  },
  {
   "cell_type": "markdown",
   "metadata": {},
   "source": [
    "<font color= #6B6B6B> <font size = 2>Se manda a llamar la función creada para el vector de fechas, creada a partir de los nombres de los archivos anteriores.</font>"
   ]
  },
  {
   "cell_type": "code",
   "execution_count": 3,
   "metadata": {},
   "outputs": [
    {
     "name": "stdout",
     "output_type": "stream",
     "text": [
      "['31-01-2018', '28-02-2018', '28-03-2018', '30-04-2018']\n",
      "['2018-01-31', '2018-02-28', '2018-03-28', '2018-04-30']\n"
     ]
    }
   ],
   "source": [
    "dates = fn.func_fechas(p_archivos=archivos)\n",
    "print(dates['t_fechas'][0:4])\n",
    "print(dates['i_fechas'][0:4])"
   ]
  },
  {
   "cell_type": "markdown",
   "metadata": {},
   "source": [
    "<font color= #6B6B6B> <font size = 2>El primer vector de fechas (t_fechas) será utilizado para la descarga de precios en yfinance y el segundo (i_fechas) como indexador de archivos.</font>"
   ]
  },
  {
   "cell_type": "markdown",
   "metadata": {},
   "source": [
    "<font color= #6B6B6B> <font size = 5> **4.3 Vector de tickers para yfinance** </font>"
   ]
  },
  {
   "cell_type": "markdown",
   "metadata": {},
   "source": [
    "<font color= #6B6B6B> <font size = 2>Se manda a llamar la función creada para el vector de tickers, en la cual ya están reemplazados los tickers que han cambiado o son diferentes en yfinance.</font>"
   ]
  },
  {
   "cell_type": "code",
   "execution_count": 4,
   "metadata": {},
   "outputs": [
    {
     "name": "stdout",
     "output_type": "stream",
     "text": [
      "['AC.MX', 'ALFAA.MX', 'ALPEKA.MX', 'ALSEA.MX', 'AMXL.MX', 'ASURB.MX', 'BBAJIOO.MX', 'BIMBOA.MX']\n"
     ]
    }
   ],
   "source": [
    "global_tickers = fn.func_tickers(p_archivos=archivos, p_data_archivos=data_archivos)\n",
    "print(global_tickers[0:8])"
   ]
  },
  {
   "cell_type": "markdown",
   "metadata": {},
   "source": [
    "<font color= #6B6B6B> <font size = 5> **4.4 Precios históricos** </font>"
   ]
  },
  {
   "cell_type": "markdown",
   "metadata": {},
   "source": [
    "<font color= #6B6B6B> <font size = 2>Se descargan los precios históricos utilizando la librería yfinance, se ordenan con las fechas de interés y lexicográficamente.</font>"
   ]
  },
  {
   "cell_type": "code",
   "execution_count": 5,
   "metadata": {},
   "outputs": [
    {
     "name": "stdout",
     "output_type": "stream",
     "text": [
      "[*********************100%***********************]  39 of 39 completed\n",
      "tardo 5.42 segundos\n"
     ]
    },
    {
     "data": {
      "text/html": [
       "<div>\n",
       "<style scoped>\n",
       "    .dataframe tbody tr th:only-of-type {\n",
       "        vertical-align: middle;\n",
       "    }\n",
       "\n",
       "    .dataframe tbody tr th {\n",
       "        vertical-align: top;\n",
       "    }\n",
       "\n",
       "    .dataframe thead th {\n",
       "        text-align: right;\n",
       "    }\n",
       "</style>\n",
       "<table border=\"1\" class=\"dataframe\">\n",
       "  <thead>\n",
       "    <tr style=\"text-align: right;\">\n",
       "      <th></th>\n",
       "      <th>AC.MX</th>\n",
       "      <th>ALFAA.MX</th>\n",
       "      <th>ALPEKA.MX</th>\n",
       "      <th>ALSEA.MX</th>\n",
       "      <th>AMXL.MX</th>\n",
       "      <th>ASURB.MX</th>\n",
       "      <th>BBAJIOO.MX</th>\n",
       "      <th>BIMBOA.MX</th>\n",
       "      <th>BOLSAA.MX</th>\n",
       "      <th>CEMEXCPO.MX</th>\n",
       "      <th>CUERVO.MX</th>\n",
       "      <th>ELEKTRA.MX</th>\n",
       "      <th>FEMSAUBD.MX</th>\n",
       "      <th>GAPB.MX</th>\n",
       "      <th>GCARSOA1.MX</th>\n",
       "      <th>GCC.MX</th>\n",
       "      <th>GENTERA.MX</th>\n",
       "      <th>GFINBURO.MX</th>\n",
       "      <th>GFNORTEO.MX</th>\n",
       "      <th>GMEXICOB.MX</th>\n",
       "      <th>GMXT.MX</th>\n",
       "      <th>GRUMAB.MX</th>\n",
       "      <th>IENOVA.MX</th>\n",
       "      <th>KIMBERA.MX</th>\n",
       "      <th>LABB.MX</th>\n",
       "      <th>LALAB.MX</th>\n",
       "      <th>LIVEPOLC-1.MX</th>\n",
       "      <th>MEGACPO.MX</th>\n",
       "      <th>NEMAKA.MX</th>\n",
       "      <th>OMAB.MX</th>\n",
       "      <th>ORBIA.MX</th>\n",
       "      <th>PE&amp;OLES.MX</th>\n",
       "      <th>PINFRA.MX</th>\n",
       "      <th>Q.MX</th>\n",
       "      <th>RA.MX</th>\n",
       "      <th>TLEVISACPO.MX</th>\n",
       "      <th>VESTA.MX</th>\n",
       "      <th>VOLARA.MX</th>\n",
       "      <th>WALMEX.MX</th>\n",
       "    </tr>\n",
       "    <tr>\n",
       "      <th>Date</th>\n",
       "      <th></th>\n",
       "      <th></th>\n",
       "      <th></th>\n",
       "      <th></th>\n",
       "      <th></th>\n",
       "      <th></th>\n",
       "      <th></th>\n",
       "      <th></th>\n",
       "      <th></th>\n",
       "      <th></th>\n",
       "      <th></th>\n",
       "      <th></th>\n",
       "      <th></th>\n",
       "      <th></th>\n",
       "      <th></th>\n",
       "      <th></th>\n",
       "      <th></th>\n",
       "      <th></th>\n",
       "      <th></th>\n",
       "      <th></th>\n",
       "      <th></th>\n",
       "      <th></th>\n",
       "      <th></th>\n",
       "      <th></th>\n",
       "      <th></th>\n",
       "      <th></th>\n",
       "      <th></th>\n",
       "      <th></th>\n",
       "      <th></th>\n",
       "      <th></th>\n",
       "      <th></th>\n",
       "      <th></th>\n",
       "      <th></th>\n",
       "      <th></th>\n",
       "      <th></th>\n",
       "      <th></th>\n",
       "      <th></th>\n",
       "      <th></th>\n",
       "      <th></th>\n",
       "    </tr>\n",
       "  </thead>\n",
       "  <tbody>\n",
       "    <tr>\n",
       "      <th>2018-01-31</th>\n",
       "      <td>135.050003</td>\n",
       "      <td>23.360001</td>\n",
       "      <td>26.860001</td>\n",
       "      <td>60.880001</td>\n",
       "      <td>17.440001</td>\n",
       "      <td>362.220001</td>\n",
       "      <td>39.330002</td>\n",
       "      <td>45.400002</td>\n",
       "      <td>35.619999</td>\n",
       "      <td>15.48</td>\n",
       "      <td>33.860001</td>\n",
       "      <td>672.390015</td>\n",
       "      <td>181.520004</td>\n",
       "      <td>194.589996</td>\n",
       "      <td>69.820000</td>\n",
       "      <td>104.760002</td>\n",
       "      <td>16.870001</td>\n",
       "      <td>32.930000</td>\n",
       "      <td>119.580002</td>\n",
       "      <td>65.980003</td>\n",
       "      <td>33.759998</td>\n",
       "      <td>222.300003</td>\n",
       "      <td>97.010002</td>\n",
       "      <td>34.950001</td>\n",
       "      <td>20.450001</td>\n",
       "      <td>29.770000</td>\n",
       "      <td>137.759995</td>\n",
       "      <td>85.160004</td>\n",
       "      <td>15.54</td>\n",
       "      <td>94.989998</td>\n",
       "      <td>52.750000</td>\n",
       "      <td>431.350006</td>\n",
       "      <td>190.779999</td>\n",
       "      <td>46.500000</td>\n",
       "      <td>115.919998</td>\n",
       "      <td>77.019997</td>\n",
       "      <td>25.639999</td>\n",
       "      <td>15.930000</td>\n",
       "      <td>46.639999</td>\n",
       "    </tr>\n",
       "    <tr>\n",
       "      <th>2018-02-28</th>\n",
       "      <td>130.839996</td>\n",
       "      <td>22.389999</td>\n",
       "      <td>24.420000</td>\n",
       "      <td>64.260002</td>\n",
       "      <td>17.340000</td>\n",
       "      <td>334.029999</td>\n",
       "      <td>41.049999</td>\n",
       "      <td>44.110001</td>\n",
       "      <td>34.939999</td>\n",
       "      <td>12.45</td>\n",
       "      <td>34.770000</td>\n",
       "      <td>554.770020</td>\n",
       "      <td>174.520004</td>\n",
       "      <td>182.119995</td>\n",
       "      <td>66.190002</td>\n",
       "      <td>99.669998</td>\n",
       "      <td>15.400000</td>\n",
       "      <td>30.120001</td>\n",
       "      <td>113.160004</td>\n",
       "      <td>64.349998</td>\n",
       "      <td>30.870001</td>\n",
       "      <td>218.199997</td>\n",
       "      <td>89.300003</td>\n",
       "      <td>34.349998</td>\n",
       "      <td>20.389999</td>\n",
       "      <td>27.610001</td>\n",
       "      <td>128.699997</td>\n",
       "      <td>83.440002</td>\n",
       "      <td>13.41</td>\n",
       "      <td>92.110001</td>\n",
       "      <td>52.840000</td>\n",
       "      <td>411.940002</td>\n",
       "      <td>192.380005</td>\n",
       "      <td>49.580002</td>\n",
       "      <td>116.150002</td>\n",
       "      <td>64.510002</td>\n",
       "      <td>25.900000</td>\n",
       "      <td>16.780001</td>\n",
       "      <td>44.000000</td>\n",
       "    </tr>\n",
       "    <tr>\n",
       "      <th>2018-03-28</th>\n",
       "      <td>125.709999</td>\n",
       "      <td>23.290001</td>\n",
       "      <td>25.260000</td>\n",
       "      <td>63.529999</td>\n",
       "      <td>17.250000</td>\n",
       "      <td>306.420013</td>\n",
       "      <td>38.910000</td>\n",
       "      <td>39.779999</td>\n",
       "      <td>34.740002</td>\n",
       "      <td>12.03</td>\n",
       "      <td>36.900002</td>\n",
       "      <td>510.079987</td>\n",
       "      <td>165.820007</td>\n",
       "      <td>179.630005</td>\n",
       "      <td>64.029999</td>\n",
       "      <td>97.790001</td>\n",
       "      <td>13.260000</td>\n",
       "      <td>30.090000</td>\n",
       "      <td>111.129997</td>\n",
       "      <td>60.549999</td>\n",
       "      <td>31.700001</td>\n",
       "      <td>208.570007</td>\n",
       "      <td>88.919998</td>\n",
       "      <td>34.040001</td>\n",
       "      <td>19.700001</td>\n",
       "      <td>24.730000</td>\n",
       "      <td>135.500000</td>\n",
       "      <td>83.970001</td>\n",
       "      <td>14.94</td>\n",
       "      <td>88.650002</td>\n",
       "      <td>55.639999</td>\n",
       "      <td>367.260010</td>\n",
       "      <td>180.740005</td>\n",
       "      <td>50.320000</td>\n",
       "      <td>111.919998</td>\n",
       "      <td>57.830002</td>\n",
       "      <td>26.990000</td>\n",
       "      <td>14.650000</td>\n",
       "      <td>46.259998</td>\n",
       "    </tr>\n",
       "    <tr>\n",
       "      <th>2018-04-30</th>\n",
       "      <td>129.259995</td>\n",
       "      <td>24.010000</td>\n",
       "      <td>26.809999</td>\n",
       "      <td>69.559998</td>\n",
       "      <td>17.309999</td>\n",
       "      <td>336.329987</td>\n",
       "      <td>39.889999</td>\n",
       "      <td>43.529999</td>\n",
       "      <td>36.080002</td>\n",
       "      <td>11.70</td>\n",
       "      <td>31.680000</td>\n",
       "      <td>510.010010</td>\n",
       "      <td>180.779999</td>\n",
       "      <td>194.539993</td>\n",
       "      <td>67.199997</td>\n",
       "      <td>108.849998</td>\n",
       "      <td>14.950000</td>\n",
       "      <td>31.160000</td>\n",
       "      <td>117.019997</td>\n",
       "      <td>62.169998</td>\n",
       "      <td>29.850000</td>\n",
       "      <td>228.429993</td>\n",
       "      <td>82.330002</td>\n",
       "      <td>33.939999</td>\n",
       "      <td>18.190001</td>\n",
       "      <td>23.920000</td>\n",
       "      <td>124.779999</td>\n",
       "      <td>86.000000</td>\n",
       "      <td>14.11</td>\n",
       "      <td>99.040001</td>\n",
       "      <td>58.419998</td>\n",
       "      <td>392.540009</td>\n",
       "      <td>191.639999</td>\n",
       "      <td>52.209999</td>\n",
       "      <td>119.480003</td>\n",
       "      <td>67.120003</td>\n",
       "      <td>27.000000</td>\n",
       "      <td>11.690000</td>\n",
       "      <td>51.970001</td>\n",
       "    </tr>\n",
       "    <tr>\n",
       "      <th>2018-05-31</th>\n",
       "      <td>119.680000</td>\n",
       "      <td>20.480000</td>\n",
       "      <td>29.750000</td>\n",
       "      <td>65.410004</td>\n",
       "      <td>15.500000</td>\n",
       "      <td>316.660004</td>\n",
       "      <td>37.799999</td>\n",
       "      <td>38.060001</td>\n",
       "      <td>32.509998</td>\n",
       "      <td>11.86</td>\n",
       "      <td>32.360001</td>\n",
       "      <td>509.899994</td>\n",
       "      <td>166.250000</td>\n",
       "      <td>169.940002</td>\n",
       "      <td>62.169998</td>\n",
       "      <td>105.019997</td>\n",
       "      <td>15.070000</td>\n",
       "      <td>28.170000</td>\n",
       "      <td>106.199997</td>\n",
       "      <td>49.520000</td>\n",
       "      <td>27.410000</td>\n",
       "      <td>209.149994</td>\n",
       "      <td>83.339996</td>\n",
       "      <td>33.189999</td>\n",
       "      <td>16.900000</td>\n",
       "      <td>21.730000</td>\n",
       "      <td>113.110001</td>\n",
       "      <td>85.000000</td>\n",
       "      <td>13.50</td>\n",
       "      <td>95.379997</td>\n",
       "      <td>56.189999</td>\n",
       "      <td>336.880005</td>\n",
       "      <td>179.300003</td>\n",
       "      <td>51.049999</td>\n",
       "      <td>111.129997</td>\n",
       "      <td>66.599998</td>\n",
       "      <td>25.070000</td>\n",
       "      <td>10.300000</td>\n",
       "      <td>50.060001</td>\n",
       "    </tr>\n",
       "  </tbody>\n",
       "</table>\n",
       "</div>"
      ],
      "text/plain": [
       "                 AC.MX   ALFAA.MX  ALPEKA.MX   ALSEA.MX    AMXL.MX    ASURB.MX  BBAJIOO.MX  BIMBOA.MX  BOLSAA.MX  CEMEXCPO.MX  CUERVO.MX  ELEKTRA.MX  FEMSAUBD.MX     GAPB.MX  GCARSOA1.MX      GCC.MX  GENTERA.MX  GFINBURO.MX  GFNORTEO.MX  GMEXICOB.MX    GMXT.MX   GRUMAB.MX  IENOVA.MX  KIMBERA.MX    LABB.MX   LALAB.MX  LIVEPOLC-1.MX  MEGACPO.MX  NEMAKA.MX    OMAB.MX   ORBIA.MX  PE&OLES.MX   PINFRA.MX       Q.MX       RA.MX  TLEVISACPO.MX   VESTA.MX  VOLARA.MX  WALMEX.MX\n",
       "Date                                                                                                                                                                                                                                                                                                                                                                                                                                                                                    \n",
       "2018-01-31  135.050003  23.360001  26.860001  60.880001  17.440001  362.220001   39.330002  45.400002  35.619999        15.48  33.860001  672.390015   181.520004  194.589996    69.820000  104.760002   16.870001    32.930000   119.580002    65.980003  33.759998  222.300003  97.010002   34.950001  20.450001  29.770000     137.759995   85.160004      15.54  94.989998  52.750000  431.350006  190.779999  46.500000  115.919998      77.019997  25.639999  15.930000  46.639999\n",
       "2018-02-28  130.839996  22.389999  24.420000  64.260002  17.340000  334.029999   41.049999  44.110001  34.939999        12.45  34.770000  554.770020   174.520004  182.119995    66.190002   99.669998   15.400000    30.120001   113.160004    64.349998  30.870001  218.199997  89.300003   34.349998  20.389999  27.610001     128.699997   83.440002      13.41  92.110001  52.840000  411.940002  192.380005  49.580002  116.150002      64.510002  25.900000  16.780001  44.000000\n",
       "2018-03-28  125.709999  23.290001  25.260000  63.529999  17.250000  306.420013   38.910000  39.779999  34.740002        12.03  36.900002  510.079987   165.820007  179.630005    64.029999   97.790001   13.260000    30.090000   111.129997    60.549999  31.700001  208.570007  88.919998   34.040001  19.700001  24.730000     135.500000   83.970001      14.94  88.650002  55.639999  367.260010  180.740005  50.320000  111.919998      57.830002  26.990000  14.650000  46.259998\n",
       "2018-04-30  129.259995  24.010000  26.809999  69.559998  17.309999  336.329987   39.889999  43.529999  36.080002        11.70  31.680000  510.010010   180.779999  194.539993    67.199997  108.849998   14.950000    31.160000   117.019997    62.169998  29.850000  228.429993  82.330002   33.939999  18.190001  23.920000     124.779999   86.000000      14.11  99.040001  58.419998  392.540009  191.639999  52.209999  119.480003      67.120003  27.000000  11.690000  51.970001\n",
       "2018-05-31  119.680000  20.480000  29.750000  65.410004  15.500000  316.660004   37.799999  38.060001  32.509998        11.86  32.360001  509.899994   166.250000  169.940002    62.169998  105.019997   15.070000    28.170000   106.199997    49.520000  27.410000  209.149994  83.339996   33.189999  16.900000  21.730000     113.110001   85.000000      13.50  95.379997  56.189999  336.880005  179.300003  51.049999  111.129997      66.599998  25.070000  10.300000  50.060001"
      ]
     },
     "execution_count": 5,
     "metadata": {},
     "output_type": "execute_result"
    }
   ],
   "source": [
    "precios = fn.func_precios(p_global_tickers=global_tickers, p_dates=dates)\n",
    "precios.head()"
   ]
  },
  {
   "cell_type": "markdown",
   "metadata": {},
   "source": [
    "<font color= #6B6B6B> <font size = 5> **4.5 Inversión Pasiva** </font>"
   ]
  },
  {
   "cell_type": "markdown",
   "metadata": {},
   "source": [
    "<font color= #6B6B6B> <font size = 2>Se calcula la posición inicial con un millón de pesos de capital y comisión de 0.00125. Con esto se obtienen los títulos por acción, capital destinado por acción, la postura y la comisión que se paga por ejecutar la misma; además del efectivo libre en la postura.</font>"
   ]
  },
  {
   "cell_type": "code",
   "execution_count": 6,
   "metadata": {},
   "outputs": [
    {
     "name": "stdout",
     "output_type": "stream",
     "text": [
      "    timestamp     capital    rend  rend_acum\n",
      "0  30-01-2018  1000000.00  0.0000     0.0000\n",
      "1  31-01-2018   998805.36 -0.0012    -0.0012\n"
     ]
    }
   ],
   "source": [
    "df_pasiva = fn.f_pi_pasiva(p_data_archivos=data_archivos, p_arch0=archivos[0], p_precios=precios, p_archivos=archivos, p_dates=dates)\n",
    "print(df_pasiva[0:2])"
   ]
  },
  {
   "cell_type": "markdown",
   "metadata": {},
   "source": [
    "<font color= green> <font size = 4> **4.5.1 Evolución de la Postura inicial en Inversión Pasiva** </font>"
   ]
  },
  {
   "cell_type": "markdown",
   "metadata": {},
   "source": [
    "<font color= #6B6B6B> <font size = 2>A partir de la posición inicial se calcula la evolución de la Inversión Pasiva en todos los meses:</font>"
   ]
  },
  {
   "cell_type": "code",
   "execution_count": 7,
   "metadata": {},
   "outputs": [
    {
     "data": {
      "text/html": [
       "<div>\n",
       "<style scoped>\n",
       "    .dataframe tbody tr th:only-of-type {\n",
       "        vertical-align: middle;\n",
       "    }\n",
       "\n",
       "    .dataframe tbody tr th {\n",
       "        vertical-align: top;\n",
       "    }\n",
       "\n",
       "    .dataframe thead th {\n",
       "        text-align: right;\n",
       "    }\n",
       "</style>\n",
       "<table border=\"1\" class=\"dataframe\">\n",
       "  <thead>\n",
       "    <tr style=\"text-align: right;\">\n",
       "      <th></th>\n",
       "      <th>timestamp</th>\n",
       "      <th>capital</th>\n",
       "      <th>rend</th>\n",
       "      <th>rend_acum</th>\n",
       "    </tr>\n",
       "  </thead>\n",
       "  <tbody>\n",
       "    <tr>\n",
       "      <th>0</th>\n",
       "      <td>30-01-2018</td>\n",
       "      <td>1000000.00</td>\n",
       "      <td>0.0000</td>\n",
       "      <td>0.0000</td>\n",
       "    </tr>\n",
       "    <tr>\n",
       "      <th>1</th>\n",
       "      <td>31-01-2018</td>\n",
       "      <td>998805.36</td>\n",
       "      <td>-0.0012</td>\n",
       "      <td>-0.0012</td>\n",
       "    </tr>\n",
       "    <tr>\n",
       "      <th>2</th>\n",
       "      <td>28-02-2018</td>\n",
       "      <td>943330.67</td>\n",
       "      <td>-0.0555</td>\n",
       "      <td>-0.0567</td>\n",
       "    </tr>\n",
       "    <tr>\n",
       "      <th>3</th>\n",
       "      <td>28-03-2018</td>\n",
       "      <td>918905.55</td>\n",
       "      <td>-0.0259</td>\n",
       "      <td>-0.0826</td>\n",
       "    </tr>\n",
       "    <tr>\n",
       "      <th>4</th>\n",
       "      <td>30-04-2018</td>\n",
       "      <td>961771.83</td>\n",
       "      <td>0.0466</td>\n",
       "      <td>-0.0360</td>\n",
       "    </tr>\n",
       "  </tbody>\n",
       "</table>\n",
       "</div>"
      ],
      "text/plain": [
       "    timestamp     capital    rend  rend_acum\n",
       "0  30-01-2018  1000000.00  0.0000     0.0000\n",
       "1  31-01-2018   998805.36 -0.0012    -0.0012\n",
       "2  28-02-2018   943330.67 -0.0555    -0.0567\n",
       "3  28-03-2018   918905.55 -0.0259    -0.0826\n",
       "4  30-04-2018   961771.83  0.0466    -0.0360"
      ]
     },
     "execution_count": 7,
     "metadata": {},
     "output_type": "execute_result"
    }
   ],
   "source": [
    "df_pasiva.head()"
   ]
  },
  {
   "cell_type": "markdown",
   "metadata": {},
   "source": [
    "<font color= green> <font size = 4> **4.5.2 Gráfica de la Evolución de Inversión Pasiva** </font>"
   ]
  },
  {
   "cell_type": "markdown",
   "metadata": {},
   "source": [
    "<font color= #6B6B6B> <font size = 2>En la siguiente gráfica se muestra el comportamiento de la inversión pasiva de capital. \n",
    "\n",
    "Podemos observar grandes pérdidas, la más fuerte en marzo 2020 en la cual se peridó el 30% aproximadamente. Esto principalmente a causa de la incertidumbre por la pandemia covid-19.</font>"
   ]
  },
  {
   "cell_type": "code",
   "execution_count": 24,
   "metadata": {},
   "outputs": [
    {
     "data": {
      "application/vnd.plotly.v1+json": {
       "config": {
        "plotlyServerURL": "https://plot.ly"
       },
       "data": [
        {
         "hoverlabel": {
          "namelength": 0
         },
         "hovertemplate": "timestamp=%{x}<br>capital=%{y}",
         "legendgroup": "",
         "line": {
          "color": "green",
          "dash": "solid"
         },
         "mode": "lines",
         "name": "",
         "showlegend": false,
         "type": "scatter",
         "x": [
          "30-01-2018",
          "31-01-2018",
          "28-02-2018",
          "28-03-2018",
          "30-04-2018",
          "31-05-2018",
          "29-06-2018",
          "31-07-2018",
          "31-08-2018",
          "28-09-2018",
          "31-10-2018",
          "30-11-2018",
          "31-12-2018",
          "31-01-2019",
          "28-02-2019",
          "29-03-2019",
          "30-04-2019",
          "31-05-2019",
          "28-06-2019",
          "31-07-2019",
          "30-08-2019",
          "30-09-2019",
          "31-10-2019",
          "29-11-2019",
          "31-12-2019",
          "31-01-2020",
          "28-02-2020",
          "31-03-2020",
          "30-04-2020",
          "29-05-2020",
          "30-06-2020",
          "31-07-2020",
          "21-08-2020"
         ],
         "xaxis": "x",
         "y": [
          1000000,
          998805.36,
          943330.67,
          918905.55,
          961771.83,
          890500.28,
          949877.58,
          985791.65,
          984427.59,
          983479.62,
          878821.1,
          838086.11,
          835787.89,
          880392.16,
          858747.3,
          865519.68,
          888034.6,
          854899.09,
          861786.41,
          822069.24,
          856926.41,
          865421.39,
          873212.93,
          863293.64,
          878762.02,
          888198.72,
          832224.46,
          702813.42,
          743778.01,
          737085.87,
          766673.15,
          753502.17,
          774727.83
         ],
         "yaxis": "y"
        }
       ],
       "layout": {
        "height": 500,
        "legend": {
         "tracegroupgap": 0
        },
        "template": {
         "data": {
          "bar": [
           {
            "error_x": {
             "color": "#2a3f5f"
            },
            "error_y": {
             "color": "#2a3f5f"
            },
            "marker": {
             "line": {
              "color": "#E5ECF6",
              "width": 0.5
             }
            },
            "type": "bar"
           }
          ],
          "barpolar": [
           {
            "marker": {
             "line": {
              "color": "#E5ECF6",
              "width": 0.5
             }
            },
            "type": "barpolar"
           }
          ],
          "carpet": [
           {
            "aaxis": {
             "endlinecolor": "#2a3f5f",
             "gridcolor": "white",
             "linecolor": "white",
             "minorgridcolor": "white",
             "startlinecolor": "#2a3f5f"
            },
            "baxis": {
             "endlinecolor": "#2a3f5f",
             "gridcolor": "white",
             "linecolor": "white",
             "minorgridcolor": "white",
             "startlinecolor": "#2a3f5f"
            },
            "type": "carpet"
           }
          ],
          "choropleth": [
           {
            "colorbar": {
             "outlinewidth": 0,
             "ticks": ""
            },
            "type": "choropleth"
           }
          ],
          "contour": [
           {
            "colorbar": {
             "outlinewidth": 0,
             "ticks": ""
            },
            "colorscale": [
             [
              0,
              "#0d0887"
             ],
             [
              0.1111111111111111,
              "#46039f"
             ],
             [
              0.2222222222222222,
              "#7201a8"
             ],
             [
              0.3333333333333333,
              "#9c179e"
             ],
             [
              0.4444444444444444,
              "#bd3786"
             ],
             [
              0.5555555555555556,
              "#d8576b"
             ],
             [
              0.6666666666666666,
              "#ed7953"
             ],
             [
              0.7777777777777778,
              "#fb9f3a"
             ],
             [
              0.8888888888888888,
              "#fdca26"
             ],
             [
              1,
              "#f0f921"
             ]
            ],
            "type": "contour"
           }
          ],
          "contourcarpet": [
           {
            "colorbar": {
             "outlinewidth": 0,
             "ticks": ""
            },
            "type": "contourcarpet"
           }
          ],
          "heatmap": [
           {
            "colorbar": {
             "outlinewidth": 0,
             "ticks": ""
            },
            "colorscale": [
             [
              0,
              "#0d0887"
             ],
             [
              0.1111111111111111,
              "#46039f"
             ],
             [
              0.2222222222222222,
              "#7201a8"
             ],
             [
              0.3333333333333333,
              "#9c179e"
             ],
             [
              0.4444444444444444,
              "#bd3786"
             ],
             [
              0.5555555555555556,
              "#d8576b"
             ],
             [
              0.6666666666666666,
              "#ed7953"
             ],
             [
              0.7777777777777778,
              "#fb9f3a"
             ],
             [
              0.8888888888888888,
              "#fdca26"
             ],
             [
              1,
              "#f0f921"
             ]
            ],
            "type": "heatmap"
           }
          ],
          "heatmapgl": [
           {
            "colorbar": {
             "outlinewidth": 0,
             "ticks": ""
            },
            "colorscale": [
             [
              0,
              "#0d0887"
             ],
             [
              0.1111111111111111,
              "#46039f"
             ],
             [
              0.2222222222222222,
              "#7201a8"
             ],
             [
              0.3333333333333333,
              "#9c179e"
             ],
             [
              0.4444444444444444,
              "#bd3786"
             ],
             [
              0.5555555555555556,
              "#d8576b"
             ],
             [
              0.6666666666666666,
              "#ed7953"
             ],
             [
              0.7777777777777778,
              "#fb9f3a"
             ],
             [
              0.8888888888888888,
              "#fdca26"
             ],
             [
              1,
              "#f0f921"
             ]
            ],
            "type": "heatmapgl"
           }
          ],
          "histogram": [
           {
            "marker": {
             "colorbar": {
              "outlinewidth": 0,
              "ticks": ""
             }
            },
            "type": "histogram"
           }
          ],
          "histogram2d": [
           {
            "colorbar": {
             "outlinewidth": 0,
             "ticks": ""
            },
            "colorscale": [
             [
              0,
              "#0d0887"
             ],
             [
              0.1111111111111111,
              "#46039f"
             ],
             [
              0.2222222222222222,
              "#7201a8"
             ],
             [
              0.3333333333333333,
              "#9c179e"
             ],
             [
              0.4444444444444444,
              "#bd3786"
             ],
             [
              0.5555555555555556,
              "#d8576b"
             ],
             [
              0.6666666666666666,
              "#ed7953"
             ],
             [
              0.7777777777777778,
              "#fb9f3a"
             ],
             [
              0.8888888888888888,
              "#fdca26"
             ],
             [
              1,
              "#f0f921"
             ]
            ],
            "type": "histogram2d"
           }
          ],
          "histogram2dcontour": [
           {
            "colorbar": {
             "outlinewidth": 0,
             "ticks": ""
            },
            "colorscale": [
             [
              0,
              "#0d0887"
             ],
             [
              0.1111111111111111,
              "#46039f"
             ],
             [
              0.2222222222222222,
              "#7201a8"
             ],
             [
              0.3333333333333333,
              "#9c179e"
             ],
             [
              0.4444444444444444,
              "#bd3786"
             ],
             [
              0.5555555555555556,
              "#d8576b"
             ],
             [
              0.6666666666666666,
              "#ed7953"
             ],
             [
              0.7777777777777778,
              "#fb9f3a"
             ],
             [
              0.8888888888888888,
              "#fdca26"
             ],
             [
              1,
              "#f0f921"
             ]
            ],
            "type": "histogram2dcontour"
           }
          ],
          "mesh3d": [
           {
            "colorbar": {
             "outlinewidth": 0,
             "ticks": ""
            },
            "type": "mesh3d"
           }
          ],
          "parcoords": [
           {
            "line": {
             "colorbar": {
              "outlinewidth": 0,
              "ticks": ""
             }
            },
            "type": "parcoords"
           }
          ],
          "scatter": [
           {
            "marker": {
             "colorbar": {
              "outlinewidth": 0,
              "ticks": ""
             }
            },
            "type": "scatter"
           }
          ],
          "scatter3d": [
           {
            "line": {
             "colorbar": {
              "outlinewidth": 0,
              "ticks": ""
             }
            },
            "marker": {
             "colorbar": {
              "outlinewidth": 0,
              "ticks": ""
             }
            },
            "type": "scatter3d"
           }
          ],
          "scattercarpet": [
           {
            "marker": {
             "colorbar": {
              "outlinewidth": 0,
              "ticks": ""
             }
            },
            "type": "scattercarpet"
           }
          ],
          "scattergeo": [
           {
            "marker": {
             "colorbar": {
              "outlinewidth": 0,
              "ticks": ""
             }
            },
            "type": "scattergeo"
           }
          ],
          "scattergl": [
           {
            "marker": {
             "colorbar": {
              "outlinewidth": 0,
              "ticks": ""
             }
            },
            "type": "scattergl"
           }
          ],
          "scattermapbox": [
           {
            "marker": {
             "colorbar": {
              "outlinewidth": 0,
              "ticks": ""
             }
            },
            "type": "scattermapbox"
           }
          ],
          "scatterpolar": [
           {
            "marker": {
             "colorbar": {
              "outlinewidth": 0,
              "ticks": ""
             }
            },
            "type": "scatterpolar"
           }
          ],
          "scatterpolargl": [
           {
            "marker": {
             "colorbar": {
              "outlinewidth": 0,
              "ticks": ""
             }
            },
            "type": "scatterpolargl"
           }
          ],
          "scatterternary": [
           {
            "marker": {
             "colorbar": {
              "outlinewidth": 0,
              "ticks": ""
             }
            },
            "type": "scatterternary"
           }
          ],
          "surface": [
           {
            "colorbar": {
             "outlinewidth": 0,
             "ticks": ""
            },
            "colorscale": [
             [
              0,
              "#0d0887"
             ],
             [
              0.1111111111111111,
              "#46039f"
             ],
             [
              0.2222222222222222,
              "#7201a8"
             ],
             [
              0.3333333333333333,
              "#9c179e"
             ],
             [
              0.4444444444444444,
              "#bd3786"
             ],
             [
              0.5555555555555556,
              "#d8576b"
             ],
             [
              0.6666666666666666,
              "#ed7953"
             ],
             [
              0.7777777777777778,
              "#fb9f3a"
             ],
             [
              0.8888888888888888,
              "#fdca26"
             ],
             [
              1,
              "#f0f921"
             ]
            ],
            "type": "surface"
           }
          ],
          "table": [
           {
            "cells": {
             "fill": {
              "color": "#EBF0F8"
             },
             "line": {
              "color": "white"
             }
            },
            "header": {
             "fill": {
              "color": "#C8D4E3"
             },
             "line": {
              "color": "white"
             }
            },
            "type": "table"
           }
          ]
         },
         "layout": {
          "annotationdefaults": {
           "arrowcolor": "#2a3f5f",
           "arrowhead": 0,
           "arrowwidth": 1
          },
          "colorscale": {
           "diverging": [
            [
             0,
             "#8e0152"
            ],
            [
             0.1,
             "#c51b7d"
            ],
            [
             0.2,
             "#de77ae"
            ],
            [
             0.3,
             "#f1b6da"
            ],
            [
             0.4,
             "#fde0ef"
            ],
            [
             0.5,
             "#f7f7f7"
            ],
            [
             0.6,
             "#e6f5d0"
            ],
            [
             0.7,
             "#b8e186"
            ],
            [
             0.8,
             "#7fbc41"
            ],
            [
             0.9,
             "#4d9221"
            ],
            [
             1,
             "#276419"
            ]
           ],
           "sequential": [
            [
             0,
             "#0d0887"
            ],
            [
             0.1111111111111111,
             "#46039f"
            ],
            [
             0.2222222222222222,
             "#7201a8"
            ],
            [
             0.3333333333333333,
             "#9c179e"
            ],
            [
             0.4444444444444444,
             "#bd3786"
            ],
            [
             0.5555555555555556,
             "#d8576b"
            ],
            [
             0.6666666666666666,
             "#ed7953"
            ],
            [
             0.7777777777777778,
             "#fb9f3a"
            ],
            [
             0.8888888888888888,
             "#fdca26"
            ],
            [
             1,
             "#f0f921"
            ]
           ],
           "sequentialminus": [
            [
             0,
             "#0d0887"
            ],
            [
             0.1111111111111111,
             "#46039f"
            ],
            [
             0.2222222222222222,
             "#7201a8"
            ],
            [
             0.3333333333333333,
             "#9c179e"
            ],
            [
             0.4444444444444444,
             "#bd3786"
            ],
            [
             0.5555555555555556,
             "#d8576b"
            ],
            [
             0.6666666666666666,
             "#ed7953"
            ],
            [
             0.7777777777777778,
             "#fb9f3a"
            ],
            [
             0.8888888888888888,
             "#fdca26"
            ],
            [
             1,
             "#f0f921"
            ]
           ]
          },
          "colorway": [
           "#636efa",
           "#EF553B",
           "#00cc96",
           "#ab63fa",
           "#FFA15A",
           "#19d3f3",
           "#FF6692",
           "#B6E880",
           "#FF97FF",
           "#FECB52"
          ],
          "font": {
           "color": "#2a3f5f"
          },
          "geo": {
           "bgcolor": "white",
           "lakecolor": "white",
           "landcolor": "#E5ECF6",
           "showlakes": true,
           "showland": true,
           "subunitcolor": "white"
          },
          "hoverlabel": {
           "align": "left"
          },
          "hovermode": "closest",
          "mapbox": {
           "style": "light"
          },
          "paper_bgcolor": "white",
          "plot_bgcolor": "#E5ECF6",
          "polar": {
           "angularaxis": {
            "gridcolor": "white",
            "linecolor": "white",
            "ticks": ""
           },
           "bgcolor": "#E5ECF6",
           "radialaxis": {
            "gridcolor": "white",
            "linecolor": "white",
            "ticks": ""
           }
          },
          "scene": {
           "xaxis": {
            "backgroundcolor": "#E5ECF6",
            "gridcolor": "white",
            "gridwidth": 2,
            "linecolor": "white",
            "showbackground": true,
            "ticks": "",
            "zerolinecolor": "white"
           },
           "yaxis": {
            "backgroundcolor": "#E5ECF6",
            "gridcolor": "white",
            "gridwidth": 2,
            "linecolor": "white",
            "showbackground": true,
            "ticks": "",
            "zerolinecolor": "white"
           },
           "zaxis": {
            "backgroundcolor": "#E5ECF6",
            "gridcolor": "white",
            "gridwidth": 2,
            "linecolor": "white",
            "showbackground": true,
            "ticks": "",
            "zerolinecolor": "white"
           }
          },
          "shapedefaults": {
           "line": {
            "color": "#2a3f5f"
           }
          },
          "ternary": {
           "aaxis": {
            "gridcolor": "white",
            "linecolor": "white",
            "ticks": ""
           },
           "baxis": {
            "gridcolor": "white",
            "linecolor": "white",
            "ticks": ""
           },
           "bgcolor": "#E5ECF6",
           "caxis": {
            "gridcolor": "white",
            "linecolor": "white",
            "ticks": ""
           }
          },
          "title": {
           "x": 0.05
          },
          "xaxis": {
           "automargin": true,
           "gridcolor": "white",
           "linecolor": "white",
           "ticks": "",
           "zerolinecolor": "white",
           "zerolinewidth": 2
          },
          "yaxis": {
           "automargin": true,
           "gridcolor": "white",
           "linecolor": "white",
           "ticks": "",
           "zerolinecolor": "white",
           "zerolinewidth": 2
          }
         }
        },
        "title": {
         "text": "Evolución en Inversión Pasiva"
        },
        "width": 900,
        "xaxis": {
         "anchor": "y",
         "domain": [
          0,
          0.98
         ],
         "title": {
          "text": "timestamp"
         }
        },
        "yaxis": {
         "anchor": "x",
         "domain": [
          0,
          1
         ],
         "title": {
          "text": "capital"
         }
        }
       }
      },
      "text/html": [
       "<div>\n",
       "        \n",
       "        \n",
       "            <div id=\"3e605152-41d6-472b-aa8a-37481d6f3fde\" class=\"plotly-graph-div\" style=\"height:500px; width:900px;\"></div>\n",
       "            <script type=\"text/javascript\">\n",
       "                require([\"plotly\"], function(Plotly) {\n",
       "                    window.PLOTLYENV=window.PLOTLYENV || {};\n",
       "                    \n",
       "                if (document.getElementById(\"3e605152-41d6-472b-aa8a-37481d6f3fde\")) {\n",
       "                    Plotly.newPlot(\n",
       "                        '3e605152-41d6-472b-aa8a-37481d6f3fde',\n",
       "                        [{\"hoverlabel\": {\"namelength\": 0}, \"hovertemplate\": \"timestamp=%{x}<br>capital=%{y}\", \"legendgroup\": \"\", \"line\": {\"color\": \"green\", \"dash\": \"solid\"}, \"mode\": \"lines\", \"name\": \"\", \"showlegend\": false, \"type\": \"scatter\", \"x\": [\"30-01-2018\", \"31-01-2018\", \"28-02-2018\", \"28-03-2018\", \"30-04-2018\", \"31-05-2018\", \"29-06-2018\", \"31-07-2018\", \"31-08-2018\", \"28-09-2018\", \"31-10-2018\", \"30-11-2018\", \"31-12-2018\", \"31-01-2019\", \"28-02-2019\", \"29-03-2019\", \"30-04-2019\", \"31-05-2019\", \"28-06-2019\", \"31-07-2019\", \"30-08-2019\", \"30-09-2019\", \"31-10-2019\", \"29-11-2019\", \"31-12-2019\", \"31-01-2020\", \"28-02-2020\", \"31-03-2020\", \"30-04-2020\", \"29-05-2020\", \"30-06-2020\", \"31-07-2020\", \"21-08-2020\"], \"xaxis\": \"x\", \"y\": [1000000.0, 998805.36, 943330.67, 918905.55, 961771.83, 890500.28, 949877.58, 985791.65, 984427.59, 983479.62, 878821.1, 838086.11, 835787.89, 880392.16, 858747.3, 865519.68, 888034.6, 854899.09, 861786.41, 822069.24, 856926.41, 865421.39, 873212.93, 863293.64, 878762.02, 888198.72, 832224.46, 702813.42, 743778.01, 737085.87, 766673.15, 753502.17, 774727.83], \"yaxis\": \"y\"}],\n",
       "                        {\"height\": 500, \"legend\": {\"tracegroupgap\": 0}, \"template\": {\"data\": {\"bar\": [{\"error_x\": {\"color\": \"#2a3f5f\"}, \"error_y\": {\"color\": \"#2a3f5f\"}, \"marker\": {\"line\": {\"color\": \"#E5ECF6\", \"width\": 0.5}}, \"type\": \"bar\"}], \"barpolar\": [{\"marker\": {\"line\": {\"color\": \"#E5ECF6\", \"width\": 0.5}}, \"type\": \"barpolar\"}], \"carpet\": [{\"aaxis\": {\"endlinecolor\": \"#2a3f5f\", \"gridcolor\": \"white\", \"linecolor\": \"white\", \"minorgridcolor\": \"white\", \"startlinecolor\": \"#2a3f5f\"}, \"baxis\": {\"endlinecolor\": \"#2a3f5f\", \"gridcolor\": \"white\", \"linecolor\": \"white\", \"minorgridcolor\": \"white\", \"startlinecolor\": \"#2a3f5f\"}, \"type\": \"carpet\"}], \"choropleth\": [{\"colorbar\": {\"outlinewidth\": 0, \"ticks\": \"\"}, \"type\": \"choropleth\"}], \"contour\": [{\"colorbar\": {\"outlinewidth\": 0, \"ticks\": \"\"}, \"colorscale\": [[0.0, \"#0d0887\"], [0.1111111111111111, \"#46039f\"], [0.2222222222222222, \"#7201a8\"], [0.3333333333333333, \"#9c179e\"], [0.4444444444444444, \"#bd3786\"], [0.5555555555555556, \"#d8576b\"], [0.6666666666666666, \"#ed7953\"], [0.7777777777777778, \"#fb9f3a\"], [0.8888888888888888, \"#fdca26\"], [1.0, \"#f0f921\"]], \"type\": \"contour\"}], \"contourcarpet\": [{\"colorbar\": {\"outlinewidth\": 0, \"ticks\": \"\"}, \"type\": \"contourcarpet\"}], \"heatmap\": [{\"colorbar\": {\"outlinewidth\": 0, \"ticks\": \"\"}, \"colorscale\": [[0.0, \"#0d0887\"], [0.1111111111111111, \"#46039f\"], [0.2222222222222222, \"#7201a8\"], [0.3333333333333333, \"#9c179e\"], [0.4444444444444444, \"#bd3786\"], [0.5555555555555556, \"#d8576b\"], [0.6666666666666666, \"#ed7953\"], [0.7777777777777778, \"#fb9f3a\"], [0.8888888888888888, \"#fdca26\"], [1.0, \"#f0f921\"]], \"type\": \"heatmap\"}], \"heatmapgl\": [{\"colorbar\": {\"outlinewidth\": 0, \"ticks\": \"\"}, \"colorscale\": [[0.0, \"#0d0887\"], [0.1111111111111111, \"#46039f\"], [0.2222222222222222, \"#7201a8\"], [0.3333333333333333, \"#9c179e\"], [0.4444444444444444, \"#bd3786\"], [0.5555555555555556, \"#d8576b\"], [0.6666666666666666, \"#ed7953\"], [0.7777777777777778, \"#fb9f3a\"], [0.8888888888888888, \"#fdca26\"], [1.0, \"#f0f921\"]], \"type\": \"heatmapgl\"}], \"histogram\": [{\"marker\": {\"colorbar\": {\"outlinewidth\": 0, \"ticks\": \"\"}}, \"type\": \"histogram\"}], \"histogram2d\": [{\"colorbar\": {\"outlinewidth\": 0, \"ticks\": \"\"}, \"colorscale\": [[0.0, \"#0d0887\"], [0.1111111111111111, \"#46039f\"], [0.2222222222222222, \"#7201a8\"], [0.3333333333333333, \"#9c179e\"], [0.4444444444444444, \"#bd3786\"], [0.5555555555555556, \"#d8576b\"], [0.6666666666666666, \"#ed7953\"], [0.7777777777777778, \"#fb9f3a\"], [0.8888888888888888, \"#fdca26\"], [1.0, \"#f0f921\"]], \"type\": \"histogram2d\"}], \"histogram2dcontour\": [{\"colorbar\": {\"outlinewidth\": 0, \"ticks\": \"\"}, \"colorscale\": [[0.0, \"#0d0887\"], [0.1111111111111111, \"#46039f\"], [0.2222222222222222, \"#7201a8\"], [0.3333333333333333, \"#9c179e\"], [0.4444444444444444, \"#bd3786\"], [0.5555555555555556, \"#d8576b\"], [0.6666666666666666, \"#ed7953\"], [0.7777777777777778, \"#fb9f3a\"], [0.8888888888888888, \"#fdca26\"], [1.0, \"#f0f921\"]], \"type\": \"histogram2dcontour\"}], \"mesh3d\": [{\"colorbar\": {\"outlinewidth\": 0, \"ticks\": \"\"}, \"type\": \"mesh3d\"}], \"parcoords\": [{\"line\": {\"colorbar\": {\"outlinewidth\": 0, \"ticks\": \"\"}}, \"type\": \"parcoords\"}], \"scatter\": [{\"marker\": {\"colorbar\": {\"outlinewidth\": 0, \"ticks\": \"\"}}, \"type\": \"scatter\"}], \"scatter3d\": [{\"line\": {\"colorbar\": {\"outlinewidth\": 0, \"ticks\": \"\"}}, \"marker\": {\"colorbar\": {\"outlinewidth\": 0, \"ticks\": \"\"}}, \"type\": \"scatter3d\"}], \"scattercarpet\": [{\"marker\": {\"colorbar\": {\"outlinewidth\": 0, \"ticks\": \"\"}}, \"type\": \"scattercarpet\"}], \"scattergeo\": [{\"marker\": {\"colorbar\": {\"outlinewidth\": 0, \"ticks\": \"\"}}, \"type\": \"scattergeo\"}], \"scattergl\": [{\"marker\": {\"colorbar\": {\"outlinewidth\": 0, \"ticks\": \"\"}}, \"type\": \"scattergl\"}], \"scattermapbox\": [{\"marker\": {\"colorbar\": {\"outlinewidth\": 0, \"ticks\": \"\"}}, \"type\": \"scattermapbox\"}], \"scatterpolar\": [{\"marker\": {\"colorbar\": {\"outlinewidth\": 0, \"ticks\": \"\"}}, \"type\": \"scatterpolar\"}], \"scatterpolargl\": [{\"marker\": {\"colorbar\": {\"outlinewidth\": 0, \"ticks\": \"\"}}, \"type\": \"scatterpolargl\"}], \"scatterternary\": [{\"marker\": {\"colorbar\": {\"outlinewidth\": 0, \"ticks\": \"\"}}, \"type\": \"scatterternary\"}], \"surface\": [{\"colorbar\": {\"outlinewidth\": 0, \"ticks\": \"\"}, \"colorscale\": [[0.0, \"#0d0887\"], [0.1111111111111111, \"#46039f\"], [0.2222222222222222, \"#7201a8\"], [0.3333333333333333, \"#9c179e\"], [0.4444444444444444, \"#bd3786\"], [0.5555555555555556, \"#d8576b\"], [0.6666666666666666, \"#ed7953\"], [0.7777777777777778, \"#fb9f3a\"], [0.8888888888888888, \"#fdca26\"], [1.0, \"#f0f921\"]], \"type\": \"surface\"}], \"table\": [{\"cells\": {\"fill\": {\"color\": \"#EBF0F8\"}, \"line\": {\"color\": \"white\"}}, \"header\": {\"fill\": {\"color\": \"#C8D4E3\"}, \"line\": {\"color\": \"white\"}}, \"type\": \"table\"}]}, \"layout\": {\"annotationdefaults\": {\"arrowcolor\": \"#2a3f5f\", \"arrowhead\": 0, \"arrowwidth\": 1}, \"colorscale\": {\"diverging\": [[0, \"#8e0152\"], [0.1, \"#c51b7d\"], [0.2, \"#de77ae\"], [0.3, \"#f1b6da\"], [0.4, \"#fde0ef\"], [0.5, \"#f7f7f7\"], [0.6, \"#e6f5d0\"], [0.7, \"#b8e186\"], [0.8, \"#7fbc41\"], [0.9, \"#4d9221\"], [1, \"#276419\"]], \"sequential\": [[0.0, \"#0d0887\"], [0.1111111111111111, \"#46039f\"], [0.2222222222222222, \"#7201a8\"], [0.3333333333333333, \"#9c179e\"], [0.4444444444444444, \"#bd3786\"], [0.5555555555555556, \"#d8576b\"], [0.6666666666666666, \"#ed7953\"], [0.7777777777777778, \"#fb9f3a\"], [0.8888888888888888, \"#fdca26\"], [1.0, \"#f0f921\"]], \"sequentialminus\": [[0.0, \"#0d0887\"], [0.1111111111111111, \"#46039f\"], [0.2222222222222222, \"#7201a8\"], [0.3333333333333333, \"#9c179e\"], [0.4444444444444444, \"#bd3786\"], [0.5555555555555556, \"#d8576b\"], [0.6666666666666666, \"#ed7953\"], [0.7777777777777778, \"#fb9f3a\"], [0.8888888888888888, \"#fdca26\"], [1.0, \"#f0f921\"]]}, \"colorway\": [\"#636efa\", \"#EF553B\", \"#00cc96\", \"#ab63fa\", \"#FFA15A\", \"#19d3f3\", \"#FF6692\", \"#B6E880\", \"#FF97FF\", \"#FECB52\"], \"font\": {\"color\": \"#2a3f5f\"}, \"geo\": {\"bgcolor\": \"white\", \"lakecolor\": \"white\", \"landcolor\": \"#E5ECF6\", \"showlakes\": true, \"showland\": true, \"subunitcolor\": \"white\"}, \"hoverlabel\": {\"align\": \"left\"}, \"hovermode\": \"closest\", \"mapbox\": {\"style\": \"light\"}, \"paper_bgcolor\": \"white\", \"plot_bgcolor\": \"#E5ECF6\", \"polar\": {\"angularaxis\": {\"gridcolor\": \"white\", \"linecolor\": \"white\", \"ticks\": \"\"}, \"bgcolor\": \"#E5ECF6\", \"radialaxis\": {\"gridcolor\": \"white\", \"linecolor\": \"white\", \"ticks\": \"\"}}, \"scene\": {\"xaxis\": {\"backgroundcolor\": \"#E5ECF6\", \"gridcolor\": \"white\", \"gridwidth\": 2, \"linecolor\": \"white\", \"showbackground\": true, \"ticks\": \"\", \"zerolinecolor\": \"white\"}, \"yaxis\": {\"backgroundcolor\": \"#E5ECF6\", \"gridcolor\": \"white\", \"gridwidth\": 2, \"linecolor\": \"white\", \"showbackground\": true, \"ticks\": \"\", \"zerolinecolor\": \"white\"}, \"zaxis\": {\"backgroundcolor\": \"#E5ECF6\", \"gridcolor\": \"white\", \"gridwidth\": 2, \"linecolor\": \"white\", \"showbackground\": true, \"ticks\": \"\", \"zerolinecolor\": \"white\"}}, \"shapedefaults\": {\"line\": {\"color\": \"#2a3f5f\"}}, \"ternary\": {\"aaxis\": {\"gridcolor\": \"white\", \"linecolor\": \"white\", \"ticks\": \"\"}, \"baxis\": {\"gridcolor\": \"white\", \"linecolor\": \"white\", \"ticks\": \"\"}, \"bgcolor\": \"#E5ECF6\", \"caxis\": {\"gridcolor\": \"white\", \"linecolor\": \"white\", \"ticks\": \"\"}}, \"title\": {\"x\": 0.05}, \"xaxis\": {\"automargin\": true, \"gridcolor\": \"white\", \"linecolor\": \"white\", \"ticks\": \"\", \"zerolinecolor\": \"white\", \"zerolinewidth\": 2}, \"yaxis\": {\"automargin\": true, \"gridcolor\": \"white\", \"linecolor\": \"white\", \"ticks\": \"\", \"zerolinecolor\": \"white\", \"zerolinewidth\": 2}}}, \"title\": {\"text\": \"Evoluci\\u00f3n en Inversi\\u00f3n Pasiva\"}, \"width\": 900, \"xaxis\": {\"anchor\": \"y\", \"domain\": [0.0, 0.98], \"title\": {\"text\": \"timestamp\"}}, \"yaxis\": {\"anchor\": \"x\", \"domain\": [0.0, 1.0], \"title\": {\"text\": \"capital\"}}},\n",
       "                        {\"responsive\": true}\n",
       "                    ).then(function(){\n",
       "                            \n",
       "var gd = document.getElementById('3e605152-41d6-472b-aa8a-37481d6f3fde');\n",
       "var x = new MutationObserver(function (mutations, observer) {{\n",
       "        var display = window.getComputedStyle(gd).display;\n",
       "        if (!display || display === 'none') {{\n",
       "            console.log([gd, 'removed!']);\n",
       "            Plotly.purge(gd);\n",
       "            observer.disconnect();\n",
       "        }}\n",
       "}});\n",
       "\n",
       "// Listen for the removal of the full notebook cells\n",
       "var notebookContainer = gd.closest('#notebook-container');\n",
       "if (notebookContainer) {{\n",
       "    x.observe(notebookContainer, {childList: true});\n",
       "}}\n",
       "\n",
       "// Listen for the clearing of the current output cell\n",
       "var outputEl = gd.closest('.output');\n",
       "if (outputEl) {{\n",
       "    x.observe(outputEl, {childList: true});\n",
       "}}\n",
       "\n",
       "                        })\n",
       "                };\n",
       "                });\n",
       "            </script>\n",
       "        </div>"
      ]
     },
     "metadata": {},
     "output_type": "display_data"
    }
   ],
   "source": [
    "import plotly.express as px\n",
    "fig = px.line(df_pasiva, x=('timestamp'), y='capital', title = \"Evolución en Inversión Pasiva\", color_discrete_sequence=['green'], \n",
    "              width=900, height=500)\n",
    "fig.show()"
   ]
  },
  {
   "cell_type": "markdown",
   "metadata": {},
   "source": [
    "<font color= #6B6B6B> <font size = 5> **4.6 Inversión Activa** </font>"
   ]
  },
  {
   "cell_type": "markdown",
   "metadata": {},
   "source": [
    "<font color= #6B6B6B> <font size = 2>Para esta estrategia se utilizan datos ya calculados en inversión pasiva, los títulos por acción, capital destinado por acción, la postura y la comisión que se paga por ejecutar la misma; además del efectivo libre en la postura.\n",
    "    \n",
    "La diferencia es que ahora habrá un rebalanceo, para esto primero se localiza el activo con mayor ponderación en el primer mes, el cual fue AMXL.MX, a este el capital disponible a utilizar será del 50% del capital disponible que tuvo en el caso de Inversión Pasiva.</font>"
   ]
  },
  {
   "cell_type": "code",
   "execution_count": 22,
   "metadata": {},
   "outputs": [
    {
     "data": {
      "text/html": [
       "<div>\n",
       "<style scoped>\n",
       "    .dataframe tbody tr th:only-of-type {\n",
       "        vertical-align: middle;\n",
       "    }\n",
       "\n",
       "    .dataframe tbody tr th {\n",
       "        vertical-align: top;\n",
       "    }\n",
       "\n",
       "    .dataframe thead th {\n",
       "        text-align: right;\n",
       "    }\n",
       "</style>\n",
       "<table border=\"1\" class=\"dataframe\">\n",
       "  <thead>\n",
       "    <tr style=\"text-align: right;\">\n",
       "      <th></th>\n",
       "      <th>Ticker</th>\n",
       "      <th>Nombre</th>\n",
       "      <th>Peso (%)</th>\n",
       "      <th>Precio</th>\n",
       "      <th>Capital</th>\n",
       "      <th>Titulos</th>\n",
       "      <th>Postura</th>\n",
       "      <th>Comision</th>\n",
       "    </tr>\n",
       "  </thead>\n",
       "  <tbody>\n",
       "    <tr>\n",
       "      <th>0</th>\n",
       "      <td>AMXL.MX</td>\n",
       "      <td>AMERICA MOVIL L</td>\n",
       "      <td>0.06655</td>\n",
       "      <td>17.440001</td>\n",
       "      <td>66466.8125</td>\n",
       "      <td>3811.0</td>\n",
       "      <td>66463.842035</td>\n",
       "      <td>83.079803</td>\n",
       "    </tr>\n",
       "    <tr>\n",
       "      <th>1</th>\n",
       "      <td>FEMSAUBD.MX</td>\n",
       "      <td>FOMENTO ECONOMICO MEXICANO</td>\n",
       "      <td>0.12690</td>\n",
       "      <td>181.520004</td>\n",
       "      <td>126741.3750</td>\n",
       "      <td>698.0</td>\n",
       "      <td>126700.962982</td>\n",
       "      <td>158.376204</td>\n",
       "    </tr>\n",
       "    <tr>\n",
       "      <th>2</th>\n",
       "      <td>GFNORTEO.MX</td>\n",
       "      <td>GPO FINANCE BANORTE</td>\n",
       "      <td>0.09510</td>\n",
       "      <td>119.580002</td>\n",
       "      <td>94981.1250</td>\n",
       "      <td>794.0</td>\n",
       "      <td>94946.521454</td>\n",
       "      <td>118.683152</td>\n",
       "    </tr>\n",
       "    <tr>\n",
       "      <th>3</th>\n",
       "      <td>WALMEX.MX</td>\n",
       "      <td>WALMART DE MEXICO V</td>\n",
       "      <td>0.07600</td>\n",
       "      <td>46.639999</td>\n",
       "      <td>75905.0000</td>\n",
       "      <td>1627.0</td>\n",
       "      <td>75883.279007</td>\n",
       "      <td>94.854099</td>\n",
       "    </tr>\n",
       "    <tr>\n",
       "      <th>4</th>\n",
       "      <td>GMEXICOB.MX</td>\n",
       "      <td>GRUPO MEXICO B</td>\n",
       "      <td>0.07540</td>\n",
       "      <td>65.980003</td>\n",
       "      <td>75305.7500</td>\n",
       "      <td>1141.0</td>\n",
       "      <td>75283.183830</td>\n",
       "      <td>94.103980</td>\n",
       "    </tr>\n",
       "  </tbody>\n",
       "</table>\n",
       "</div>"
      ],
      "text/plain": [
       "        Ticker                      Nombre  Peso (%)      Precio      Capital  Titulos        Postura    Comision\n",
       "0      AMXL.MX             AMERICA MOVIL L   0.06655   17.440001   66466.8125   3811.0   66463.842035   83.079803\n",
       "1  FEMSAUBD.MX  FOMENTO ECONOMICO MEXICANO   0.12690  181.520004  126741.3750    698.0  126700.962982  158.376204\n",
       "2  GFNORTEO.MX         GPO FINANCE BANORTE   0.09510  119.580002   94981.1250    794.0   94946.521454  118.683152\n",
       "3    WALMEX.MX         WALMART DE MEXICO V   0.07600   46.639999   75905.0000   1627.0   75883.279007   94.854099\n",
       "4  GMEXICOB.MX              GRUPO MEXICO B   0.07540   65.980003   75305.7500   1141.0   75283.183830   94.103980"
      ]
     },
     "execution_count": 22,
     "metadata": {},
     "output_type": "execute_result"
    }
   ],
   "source": [
    "df_activa.head()"
   ]
  },
  {
   "cell_type": "markdown",
   "metadata": {},
   "source": [
    "<font color= #6B6B6B> <font size = 2>Se descargan los precios de apertura y de cierre para ejecutar correctamente el rebalanceo.</font>"
   ]
  },
  {
   "cell_type": "code",
   "execution_count": 23,
   "metadata": {},
   "outputs": [
    {
     "name": "stderr",
     "output_type": "stream",
     "text": [
      "C:\\Users\\andre\\Documents\\myst_if708857_lab1\\functions.py:285: SettingWithCopyWarning:\n",
      "\n",
      "\n",
      "A value is trying to be set on a copy of a slice from a DataFrame\n",
      "\n",
      "See the caveats in the documentation: https://pandas.pydata.org/pandas-docs/stable/user_guide/indexing.html#returning-a-view-versus-a-copy\n",
      "\n"
     ]
    },
    {
     "name": "stdout",
     "output_type": "stream",
     "text": [
      "[*********************100%***********************]  39 of 39 completed\n",
      "tardo 4.42 segundos\n",
      "                 Open      Close\n",
      "Date                            \n",
      "2018-01-30  17.250000  17.469999\n",
      "2018-01-31  17.430000  17.440001\n",
      "2018-02-01  17.330000  17.639999\n",
      "2018-02-02  17.410000  17.420000\n",
      "2018-02-06  16.610001  17.190001\n",
      "2018-02-07  17.049999  16.879999\n",
      "2018-02-08  16.809999  16.600000\n",
      "2018-02-09  16.660000  16.580000\n",
      "2018-02-12  16.620001  16.600000\n",
      "2018-02-13  16.730000  16.670000\n",
      "2018-02-14  16.660000  17.379999\n",
      "2018-02-15  17.500000  17.950001\n",
      "2018-02-16  17.920000  17.870001\n",
      "2018-02-19  17.980000  17.780001\n",
      "2018-02-20  17.709999  17.750000\n",
      "2018-02-21  17.770000  17.889999\n",
      "2018-02-22  17.980000  17.920000\n",
      "2018-02-23  18.049999  17.870001\n",
      "2018-02-26  17.830000  18.010000\n",
      "2018-02-27  17.910000  17.940001\n",
      "2018-02-28  17.940001  17.340000\n",
      "2018-03-01  17.340000  17.610001\n",
      "2018-03-02  17.549999  17.549999\n",
      "2018-03-05  17.590000  17.799999\n",
      "2018-03-06  17.910000  17.450001\n",
      "2018-03-07  17.389999  17.450001\n",
      "2018-03-08  17.559999  17.639999\n",
      "2018-03-09  17.660000  17.879999\n",
      "2018-03-12  17.930000  17.840000\n",
      "2018-03-13  17.870001  18.090000\n",
      "2018-03-14  18.160000  17.980000\n",
      "2018-03-15  17.870001  18.010000\n",
      "2018-03-16  18.100000  17.750000\n",
      "2018-03-20  17.760000  17.700001\n",
      "2018-03-21  17.709999  17.719999\n",
      "2018-03-22  17.650000  17.760000\n",
      "2018-03-23  17.719999  17.350000\n",
      "2018-03-26  17.530001  17.610001\n",
      "2018-03-27  17.620001  17.629999\n",
      "2018-03-28  17.670000  17.250000\n",
      "2018-04-02  17.350000  17.160000\n",
      "2018-04-03  17.309999  17.580000\n",
      "2018-04-04  17.580000  17.690001\n",
      "2018-04-05  17.730000  17.760000\n",
      "2018-04-06  17.760000  17.760000\n",
      "2018-04-09  17.850000  17.840000\n",
      "2018-04-10  17.920000  17.870001\n",
      "2018-04-11  17.950001  17.780001\n",
      "2018-04-12  17.790001  17.799999\n",
      "2018-04-13  17.760000  17.760000\n",
      "2018-04-16  17.719999  17.600000\n",
      "2018-04-17  17.650000  17.790001\n",
      "2018-04-18  17.850000  17.940001\n",
      "2018-04-19  17.840000  17.980000\n",
      "2018-04-20  18.049999  17.850000\n",
      "2018-04-23  17.809999  17.740000\n",
      "2018-04-24  17.840000  17.590000\n",
      "2018-04-25  17.510000  17.500000\n",
      "2018-04-26  17.510000  17.500000\n",
      "2018-04-27  17.459999  17.400000\n",
      "2018-04-30  17.450001  17.309999\n",
      "2018-05-02  17.250000  17.240000\n",
      "2018-05-03  17.230000  17.049999\n",
      "2018-05-04  17.070000  17.040001\n",
      "2018-05-07  17.000000  16.969999\n",
      "2018-05-08  16.950001  16.980000\n",
      "2018-05-09  17.059999  16.780001\n",
      "2018-05-10  16.760000  16.750000\n",
      "2018-05-11  16.790001  16.889999\n",
      "2018-05-14  16.870001  16.719999\n",
      "2018-05-15  16.629999  16.650000\n",
      "2018-05-16  16.620001  16.530001\n",
      "2018-05-17  16.520000  16.200001\n",
      "2018-05-18  16.190001  16.340000\n",
      "2018-05-21  16.469999  15.940000\n",
      "2018-05-22  15.910000  16.129999\n",
      "2018-05-23  16.000000  16.230000\n",
      "2018-05-24  16.240000  16.070000\n",
      "2018-05-25  16.190001  15.820000\n",
      "2018-05-28  15.840000  15.680000\n",
      "2018-05-29  15.660000  15.590000\n",
      "2018-05-30  15.580000  15.400000\n",
      "2018-05-31  15.360000  15.500000\n",
      "2018-06-01  15.590000  15.770000\n",
      "2018-06-04  15.810000  15.620000\n",
      "2018-06-05  15.640000  15.630000\n",
      "2018-06-06  15.650000  15.580000\n",
      "2018-06-07  15.540000  15.360000\n",
      "2018-06-08  15.420000  15.570000\n",
      "2018-06-11  15.570000  15.760000\n",
      "2018-06-12  15.850000  15.930000\n",
      "2018-06-13  15.870000  16.080000\n",
      "2018-06-14  16.010000  16.590000\n",
      "2018-06-15  16.620001  16.600000\n",
      "2018-06-18  16.600000  16.389999\n",
      "2018-06-19  16.330000  16.309999\n",
      "2018-06-20  16.389999  16.299999\n",
      "2018-06-21  16.250000  16.170000\n",
      "2018-06-22  16.190001  16.309999\n",
      "2018-06-25  16.270000  16.280001\n",
      "2018-06-26  16.370001  16.250000\n",
      "2018-06-27  16.270000  16.480000\n",
      "2018-06-28  16.410000  16.459999\n",
      "2018-06-29  16.459999  16.570000\n",
      "2018-07-02  16.570000  16.150000\n",
      "2018-07-03  16.250000  16.120001\n",
      "2018-07-04  16.020000  16.120001\n",
      "2018-07-05  16.129999  16.650000\n",
      "2018-07-06  16.639999  16.840000\n",
      "2018-07-09  16.879999  17.219999\n",
      "2018-07-10  17.240000  16.980000\n",
      "2018-07-11  16.860001  17.059999\n",
      "2018-07-12  17.010000  16.750000\n",
      "2018-07-13  16.780001  16.600000\n",
      "2018-07-16  16.620001  16.639999\n",
      "2018-07-17  16.639999  16.459999\n",
      "2018-07-18  16.480000  16.469999\n",
      "2018-07-19  16.410000  16.120001\n",
      "2018-07-20  16.070000  15.960000\n",
      "2018-07-23  15.970000  15.900000\n",
      "2018-07-24  15.880000  16.010000\n",
      "2018-07-25  16.090000  16.040001\n",
      "2018-07-26  16.080000  15.860000\n",
      "2018-07-27  15.890000  15.880000\n",
      "2018-07-30  15.910000  15.950000\n",
      "2018-07-31  15.960000  15.970000\n",
      "2018-08-01  16.090000  15.800000\n",
      "2018-08-02  15.750000  15.700000\n",
      "2018-08-03  15.770000  15.720000\n",
      "2018-08-06  15.760000  15.720000\n",
      "2018-08-07  15.810000  16.170000\n",
      "2018-08-08  16.180000  16.270000\n",
      "2018-08-09  16.280001  15.940000\n",
      "2018-08-10  15.910000  15.660000\n",
      "2018-08-13  15.710000  15.780000\n",
      "2018-08-14  15.810000  15.900000\n",
      "2018-08-15  15.870000  15.710000\n",
      "2018-08-16  15.760000  15.580000\n",
      "2018-08-17  15.590000  15.720000\n",
      "2018-08-20  15.760000  15.980000\n",
      "2018-08-21  16.020000  16.410000\n",
      "2018-08-22  16.389999  16.420000\n",
      "2018-08-23  16.420000  16.020000\n",
      "2018-08-24  16.049999  16.129999\n",
      "2018-08-27  16.250000  16.320000\n",
      "2018-08-28  16.360001  16.370001\n",
      "2018-08-29  16.469999  16.549999\n",
      "2018-08-30  16.459999  16.219999\n",
      "2018-08-31  16.190001  16.049999\n",
      "2018-09-03  16.100000  16.100000\n",
      "2018-09-04  16.139999  15.790000\n",
      "2018-09-05  15.750000  15.300000\n",
      "2018-09-06  15.370000  15.510000\n",
      "2018-09-07  15.470000  15.710000\n",
      "2018-09-10  15.680000  15.710000\n",
      "2018-09-11  15.590000  15.600000\n",
      "2018-09-12  15.640000  16.049999\n",
      "2018-09-13  16.080000  16.059999\n",
      "2018-09-14  15.990000  15.670000\n",
      "2018-09-17  15.610000  15.550000\n",
      "2018-09-18  15.500000  15.610000\n",
      "2018-09-19  15.630000  15.600000\n",
      "2018-09-20  15.600000  15.620000\n",
      "2018-09-21  15.580000  15.570000\n",
      "2018-09-24  15.540000  15.540000\n",
      "2018-09-25  15.600000  15.560000\n",
      "2018-09-26  15.600000  15.420000\n",
      "2018-09-27  15.470000  15.300000\n",
      "2018-09-28  15.290000  15.040000\n",
      "2018-10-01  15.080000  15.240000\n",
      "2018-10-02  15.240000  15.160000\n",
      "2018-10-03  15.190000  14.680000\n",
      "2018-10-04  14.650000  14.710000\n",
      "2018-10-05  14.750000  14.590000\n",
      "2018-10-08  14.540000  15.120000\n",
      "2018-10-09  15.050000  15.000000\n",
      "2018-10-10  15.000000  14.970000\n",
      "2018-10-11  14.900000  14.750000\n",
      "2018-10-12  14.820000  14.540000\n",
      "2018-10-15  14.520000  14.590000\n",
      "2018-10-16  14.590000  14.870000\n",
      "2018-10-17  14.980000  14.240000\n",
      "2018-10-18  14.390000  14.080000\n",
      "2018-10-19  14.170000  14.320000\n",
      "2018-10-22  14.400000  14.140000\n",
      "2018-10-23  14.010000  14.060000\n",
      "2018-10-24  14.010000  13.790000\n",
      "2018-10-25  13.770000  14.150000\n",
      "2018-10-26  14.100000  14.070000\n",
      "2018-10-29  14.000000  13.900000\n",
      "2018-10-30  13.940000  14.200000\n",
      "2018-10-31  14.240000  14.710000\n",
      "2018-11-01  14.740000  15.320000\n",
      "2018-11-05  15.340000  15.560000\n",
      "2018-11-06  15.480000  15.230000\n",
      "2018-11-07  15.300000  15.430000\n",
      "2018-11-08  15.330000  14.630000\n",
      "2018-11-09  14.550000  14.570000\n",
      "2018-11-12  14.410000  14.250000\n",
      "2018-11-13  14.230000  13.800000\n",
      "2018-11-14  13.830000  13.690000\n",
      "2018-11-15  13.720000  13.440000\n",
      "2018-11-16  13.370000  13.590000\n",
      "2018-11-20  13.480000  13.430000\n",
      "2018-11-21  13.500000  13.440000\n",
      "2018-11-22  13.550000  13.420000\n",
      "2018-11-23  13.390000  13.120000\n",
      "2018-11-26  13.190000  12.570000\n",
      "2018-11-27  12.670000  12.700000\n",
      "2018-11-28  12.790000  13.240000\n",
      "2018-11-29  13.270000  13.970000\n",
      "2018-11-30  14.030000  13.680000\n",
      "2018-12-03  13.800000  13.780000\n",
      "2018-12-04  13.780000  13.900000\n",
      "2018-12-05  13.900000  13.920000\n",
      "2018-12-06  13.880000  14.060000\n",
      "2018-12-07  14.130000  13.990000\n",
      "2018-12-10  13.960000  13.960000\n",
      "2018-12-11  14.050000  13.850000\n",
      "2018-12-13  14.010000  14.370000\n",
      "2018-12-14  14.420000  14.370000\n",
      "2018-12-17  14.400000  13.900000\n",
      "2018-12-18  14.010000  14.130000\n",
      "2018-12-19  14.180000  14.390000\n",
      "2018-12-20  14.460000  14.380000\n",
      "2018-12-21  14.400000  14.090000\n",
      "2018-12-24  14.110000  14.070000\n",
      "2018-12-26  14.070000  13.970000\n",
      "2018-12-27  13.900000  13.830000\n",
      "2018-12-28  13.890000  13.950000\n",
      "2018-12-31  14.020000  13.970000\n",
      "2019-01-02  13.810000  14.400000\n",
      "2019-01-03  14.360000  14.270000\n",
      "2019-01-04  14.420000  14.320000\n",
      "2019-01-07  14.350000  14.390000\n",
      "2019-01-08  14.660000  15.050000\n",
      "2019-01-09  15.100000  15.140000\n",
      "2019-01-10  15.170000  15.010000\n",
      "2019-01-11  14.940000  14.770000\n",
      "2019-01-14  14.750000  14.920000\n",
      "2019-01-15  14.920000  14.780000\n",
      "2019-01-16  14.750000  14.900000\n",
      "2019-01-17  15.000000  15.050000\n",
      "2019-01-18  15.080000  15.180000\n",
      "2019-01-21  15.200000  15.200000\n",
      "2019-01-22  15.230000  15.250000\n",
      "2019-01-23  15.310000  15.150000\n",
      "2019-01-24  15.180000  14.920000\n",
      "2019-01-25  15.000000  15.060000\n",
      "2019-01-28  15.090000  15.110000\n",
      "2019-01-29  15.170000  15.100000\n",
      "2019-01-30  15.130000  15.050000\n",
      "2019-01-31  15.080000  15.310000\n",
      "2019-02-01  15.340000  15.410000\n",
      "2019-02-05  15.380000  15.480000\n",
      "2019-02-06  15.510000  15.210000\n",
      "2019-02-07  15.160000  15.220000\n",
      "2019-02-08  15.230000  15.180000\n",
      "2019-02-11  15.120000  15.230000\n",
      "2019-02-12  15.240000  15.060000\n",
      "2019-02-13  15.160000  14.240000\n",
      "2019-02-14  14.270000  14.160000\n",
      "2019-02-15  14.290000  14.460000\n",
      "2019-02-18  14.510000  14.270000\n",
      "2019-02-19  14.310000  14.160000\n",
      "2019-02-20  14.220000  14.310000\n",
      "2019-02-21  14.240000  14.490000\n",
      "2019-02-22  14.460000  14.390000\n",
      "2019-02-25  14.440000  14.270000\n",
      "2019-02-26  14.260000  14.220000\n",
      "2019-02-27  14.220000  14.040000\n",
      "2019-02-28  14.010000  13.880000\n",
      "2019-03-01  13.880000  13.880000\n",
      "2019-03-04  13.900000  13.710000\n",
      "2019-03-05  13.680000  13.400000\n",
      "2019-03-06  13.370000  13.280000\n",
      "2019-03-07  13.300000  13.630000\n",
      "2019-03-08  13.620000  13.780000\n",
      "2019-03-11  13.740000  13.890000\n",
      "2019-03-12  13.900000  14.000000\n",
      "2019-03-13  14.050000  14.060000\n",
      "2019-03-14  14.080000  13.910000\n",
      "2019-03-15  13.870000  13.960000\n",
      "2019-03-19  14.200000  14.000000\n",
      "2019-03-20  14.030000  14.470000\n",
      "2019-03-21  14.460000  14.450000\n",
      "2019-03-22  14.370000  14.200000\n",
      "2019-03-25  14.140000  13.950000\n",
      "2019-03-26  13.930000  13.980000\n",
      "2019-03-27  14.130000  13.870000\n",
      "2019-03-28  13.920000  13.720000\n",
      "2019-03-29  13.780000  13.880000\n",
      "2019-04-01  13.930000  14.130000\n",
      "2019-04-02  14.040000  13.780000\n",
      "2019-04-03  13.860000  13.820000\n",
      "2019-04-04  13.860000  14.160000\n",
      "2019-04-05  14.160000  14.740000\n",
      "2019-04-08  14.700000  14.950000\n",
      "2019-04-09  14.950000  14.940000\n",
      "2019-04-10  14.940000  14.950000\n",
      "2019-04-11  14.920000  14.760000\n",
      "2019-04-12  14.800000  14.520000\n",
      "2019-04-15  14.470000  14.660000\n",
      "2019-04-16  14.690000  14.810000\n",
      "2019-04-17  14.830000  14.910000\n",
      "2019-04-22  14.940000  14.820000\n",
      "2019-04-23  14.850000  14.530000\n",
      "2019-04-24  14.450000  14.680000\n",
      "2019-04-25  14.680000  14.810000\n",
      "2019-04-26  14.850000  14.760000\n",
      "2019-04-29  14.760000  14.800000\n",
      "2019-04-30  14.830000  14.120000\n",
      "2019-05-02  14.100000  14.090000\n",
      "2019-05-03  14.040000  13.980000\n",
      "2019-05-06  13.870000  13.760000\n",
      "2019-05-07  13.750000  13.480000\n",
      "2019-05-08  13.480000  13.240000\n",
      "2019-05-09  13.150000  13.520000\n",
      "2019-05-10  13.420000  13.520000\n",
      "2019-05-13  13.450000  13.390000\n",
      "2019-05-14  13.360000  13.510000\n",
      "2019-05-15  13.360000  13.540000\n",
      "2019-05-16  13.580000  13.740000\n",
      "2019-05-17  13.690000  13.830000\n",
      "2019-05-20  13.810000  13.760000\n",
      "2019-05-21  13.820000  13.760000\n",
      "2019-05-22  13.700000  13.650000\n",
      "2019-05-23  13.570000  13.570000\n",
      "2019-05-24  13.640000  13.570000\n",
      "2019-05-27  13.520000  13.510000\n",
      "2019-05-28  13.510000  13.430000\n",
      "2019-05-29  13.390000  13.800000\n",
      "2019-05-30  13.770000  14.060000\n",
      "2019-05-31  13.820000  13.790000\n",
      "2019-06-03  13.800000  14.220000\n",
      "2019-06-04  14.170000  14.300000\n",
      "2019-06-05  14.340000  14.500000\n",
      "2019-06-06  14.460000  14.280000\n",
      "2019-06-07  14.310000  14.470000\n",
      "2019-06-10  14.500000  14.380000\n",
      "2019-06-11  14.430000  14.440000\n",
      "2019-06-12  14.450000  14.310000\n",
      "2019-06-13  14.370000  14.180000\n",
      "2019-06-14  14.210000  13.930000\n",
      "2019-06-17  13.960000  13.870000\n",
      "2019-06-18  13.950000  14.020000\n",
      "2019-06-19  13.990000  14.290000\n",
      "2019-06-20  14.390000  14.560000\n",
      "2019-06-21  14.590000  14.580000\n",
      "2019-06-24  14.540000  14.710000\n",
      "2019-06-25  14.620000  14.510000\n",
      "2019-06-26  14.540000  14.540000\n",
      "2019-06-27  14.570000  14.070000\n",
      "2019-06-28  14.140000  13.970000\n",
      "2019-07-01  14.050000  14.180000\n",
      "2019-07-02  14.220000  14.210000\n",
      "2019-07-03  14.230000  14.220000\n",
      "2019-07-04  14.210000  14.180000\n",
      "2019-07-05  14.150000  14.220000\n",
      "2019-07-08  14.280000  14.320000\n",
      "2019-07-09  14.280000  14.080000\n",
      "2019-07-10  14.200000  14.130000\n",
      "2019-07-11  14.000000  14.010000\n",
      "2019-07-12  14.040000  13.870000\n",
      "2019-07-15  13.940000  14.210000\n",
      "2019-07-16  14.250000  14.210000\n",
      "2019-07-17  14.400000  14.700000\n",
      "2019-07-18  14.660000  14.310000\n",
      "2019-07-19  14.150000  14.230000\n",
      "2019-07-22  14.180000  14.100000\n",
      "2019-07-23  14.100000  13.990000\n",
      "2019-07-24  14.050000  13.830000\n",
      "2019-07-25  13.870000  13.600000\n",
      "2019-07-26  13.570000  13.490000\n",
      "2019-07-29  13.450000  13.810000\n",
      "2019-07-30  13.820000  13.790000\n",
      "2019-07-31  13.710000  13.480000\n",
      "2019-08-01  13.450000  13.380000\n",
      "2019-08-02  13.350000  13.230000\n",
      "2019-08-05  13.150000  12.990000\n",
      "2019-08-06  12.970000  13.380000\n",
      "2019-08-07  13.320000  13.780000\n",
      "2019-08-08  13.820000  13.860000\n",
      "2019-08-09  13.900000  13.630000\n",
      "2019-08-12  13.540000  13.280000\n",
      "2019-08-13  13.250000  13.230000\n",
      "2019-08-14  13.160000  12.990000\n",
      "2019-08-15  12.960000  12.790000\n",
      "2019-08-16  12.860000  13.060000\n",
      "2019-08-19  13.150000  13.020000\n",
      "2019-08-20  13.030000  13.000000\n",
      "2019-08-21  13.040000  13.180000\n",
      "2019-08-22  13.160000  13.260000\n",
      "2019-08-23  13.170000  13.120000\n",
      "2019-08-26  13.200000  13.240000\n",
      "2019-08-27  13.290000  13.750000\n",
      "2019-08-28  13.720000  13.890000\n",
      "2019-08-29  13.810000  14.270000\n",
      "2019-08-30  14.380000  14.660000\n",
      "2019-09-02  14.660000  14.290000\n",
      "2019-09-03  14.270000  14.330000\n",
      "2019-09-04  14.430000  14.440000\n",
      "2019-09-05  14.500000  14.260000\n",
      "2019-09-06  14.300000  14.150000\n",
      "2019-09-09  14.260000  14.150000\n",
      "2019-09-10  14.110000  14.020000\n",
      "2019-09-11  14.020000  14.130000\n",
      "2019-09-12  14.090000  14.040000\n",
      "2019-09-13  14.100000  14.280000\n",
      "2019-09-17  14.230000  14.680000\n",
      "2019-09-18  14.670000  14.580000\n",
      "2019-09-19  14.590000  14.740000\n",
      "2019-09-20  14.810000  14.830000\n",
      "2019-09-23  14.820000  14.670000\n",
      "2019-09-24  14.680000  14.360000\n",
      "2019-09-25  14.390000  14.510000\n",
      "2019-09-26  14.540000  14.580000\n",
      "2019-09-27  14.610000  14.440000\n",
      "2019-09-30  14.470000  14.640000\n",
      "2019-10-01  14.680000  14.680000\n",
      "2019-10-02  14.610000  14.410000\n",
      "2019-10-03  14.430000  14.380000\n",
      "2019-10-04  14.370000  14.890000\n",
      "2019-10-07  14.890000  14.680000\n",
      "2019-10-08  14.630000  14.570000\n",
      "2019-10-09  14.600000  14.600000\n",
      "2019-10-10  14.630000  14.880000\n",
      "2019-10-11  14.900000  14.890000\n",
      "2019-10-14  14.890000  14.790000\n",
      "2019-10-15  14.830000  14.690000\n",
      "2019-10-16  14.820000  15.230000\n",
      "2019-10-17  15.260000  15.360000\n",
      "2019-10-18  15.380000  15.380000\n",
      "2019-10-21  15.410000  15.580000\n",
      "2019-10-22  15.620000  15.490000\n",
      "2019-10-23  15.520000  15.610000\n",
      "2019-10-24  15.650000  15.710000\n",
      "2019-10-25  15.690000  15.560000\n",
      "2019-10-28  15.510000  15.620000\n",
      "2019-10-29  15.590000  15.510000\n",
      "2019-10-30  15.550000  15.460000\n",
      "2019-10-31  15.480000  15.240000\n",
      "2019-11-01  15.270000  15.460000\n",
      "2019-11-04  15.500000  15.590000\n",
      "2019-11-05  15.590000  15.350000\n",
      "2019-11-06  15.350000  15.390000\n",
      "2019-11-07  15.320000  15.300000\n",
      "2019-11-08  15.260000  15.240000\n",
      "2019-11-11  15.170000  15.310000\n",
      "2019-11-12  15.290000  15.190000\n",
      "2019-11-13  15.130000  15.180000\n",
      "2019-11-14  15.190000  15.260000\n",
      "2019-11-15  15.290000  15.270000\n",
      "2019-11-19  15.210000  15.090000\n",
      "2019-11-20  15.100000  15.280000\n",
      "2019-11-21  15.250000  15.200000\n",
      "2019-11-22  15.200000  15.250000\n",
      "2019-11-25  15.290000  15.280000\n",
      "2019-11-26  15.260000  15.080000\n",
      "2019-11-27  15.140000  15.060000\n",
      "2019-11-28  15.080000  15.060000\n",
      "2019-11-29  15.090000  15.000000\n",
      "2019-12-02  15.030000  14.730000\n",
      "2019-12-03  14.630000  14.570000\n",
      "2019-12-04  14.640000  14.610000\n",
      "2019-12-05  14.640000  14.700000\n",
      "2019-12-06  14.730000  14.600000\n",
      "2019-12-09  14.600000  14.470000\n",
      "2019-12-10  14.480000  14.630000\n",
      "2019-12-11  14.650000  14.790000\n",
      "2019-12-13  14.850000  15.020000\n",
      "2019-12-16  14.990000  14.920000\n",
      "2019-12-17  14.890000  14.760000\n",
      "2019-12-18  14.790000  15.290000\n",
      "2019-12-19  15.300000  15.200000\n",
      "2019-12-20  15.170000  15.220000\n",
      "2019-12-23  15.220000  15.250000\n",
      "2019-12-24  15.250000  15.200000\n",
      "2019-12-26  15.180000  15.330000\n",
      "2019-12-27  15.360000  15.410000\n",
      "2019-12-30  15.400000  15.200000\n",
      "2019-12-31  15.200000  15.200000\n",
      "2020-01-02  15.170000  15.330000\n",
      "2020-01-03  15.290000  15.470000\n",
      "2020-01-06  15.370000  15.290000\n",
      "2020-01-07  15.360000  15.080000\n",
      "2020-01-08  15.100000  14.990000\n",
      "2020-01-09  15.030000  15.045000\n",
      "2020-01-10  15.070000  15.100000\n",
      "2020-01-13  15.110000  15.050000\n",
      "2020-01-14  15.040000  14.910000\n",
      "2020-01-15  14.930000  14.850000\n",
      "2020-01-16  14.900000  15.310000\n",
      "2020-01-17  15.290000  15.500000\n",
      "2020-01-20  15.500000  15.510000\n",
      "2020-01-21  15.490000  15.590000\n",
      "2020-01-22  15.590000  15.510000\n",
      "2020-01-23  15.460000  15.700000\n",
      "2020-01-24  15.650000  15.680000\n",
      "2020-01-27  15.550000  15.310000\n",
      "2020-01-28  15.330000  15.730000\n",
      "2020-01-29  15.720000  16.120001\n",
      "2020-01-30  16.129999  16.059999\n",
      "2020-01-31  16.030001  15.695000\n",
      "2020-02-04  15.710000  15.990000\n",
      "2020-02-05  16.030001  15.890000\n",
      "2020-02-06  15.930000  15.680000\n",
      "2020-02-07  15.670000  15.640000\n",
      "2020-02-10  15.580000  15.390000\n",
      "2020-02-11  15.450000  15.730000\n",
      "2020-02-12  16.000000  16.610001\n",
      "2020-02-13  16.610001  16.639999\n",
      "2020-02-14  16.700001  16.639999\n",
      "2020-02-17  16.600000  16.450001\n",
      "2020-02-18  16.410000  16.540001\n",
      "2020-02-19  16.549999  16.680000\n",
      "2020-02-20  16.670000  16.459999\n",
      "2020-02-21  16.480000  16.559999\n",
      "2020-02-24  15.800000  15.960000\n",
      "2020-02-25  16.080000  15.600000\n",
      "2020-02-26  15.640000  15.750000\n",
      "2020-02-27  15.670000  15.470000\n",
      "2020-02-28  15.330000  15.520000\n",
      "2020-03-02  15.510000  15.950000\n",
      "2020-03-03  15.960000  16.200001\n",
      "2020-03-04  16.350000  16.790001\n",
      "2020-03-05  16.600000  16.219999\n",
      "2020-03-06  16.030001  15.920000\n",
      "2020-03-09  15.700000  14.640000\n",
      "2020-03-10  15.080000  15.070000\n",
      "2020-03-11  14.910000  15.330000\n",
      "2020-03-12  14.760000  14.110000\n",
      "2020-03-13  14.500000  14.700000\n",
      "2020-03-17  13.800000  15.260000\n",
      "2020-03-18  14.940000  15.220000\n",
      "2020-03-19  15.260000  15.220000\n",
      "2020-03-20  15.190000  14.750000\n",
      "2020-03-23  14.730000  14.320000\n",
      "2020-03-24  14.330000  14.800000\n",
      "2020-03-25  14.740000  15.190000\n",
      "2020-03-26  15.130000  15.070000\n",
      "2020-03-27  14.770000  14.180000\n",
      "2020-03-30  14.340000  14.240000\n",
      "2020-03-31  14.260000  14.050000\n",
      "2020-04-01  13.800000  13.840000\n",
      "2020-04-02  14.000000  13.870000\n",
      "2020-04-03  13.940000  13.510000\n",
      "2020-04-06  13.810000  14.220000\n",
      "2020-04-07  14.400000  14.310000\n",
      "2020-04-08  14.310000  13.950000\n",
      "2020-04-13  13.980000  13.410000\n",
      "2020-04-14  13.600000  13.290000\n",
      "2020-04-15  13.260000  12.880000\n",
      "2020-04-16  12.880000  12.820000\n",
      "2020-04-17  13.000000  13.220000\n",
      "2020-04-20  13.160000  13.140000\n",
      "2020-04-21  13.050000  13.120000\n",
      "2020-04-22  13.190000  13.380000\n",
      "2020-04-23  13.450000  13.330000\n",
      "2020-04-24  13.380000  13.610000\n",
      "2020-04-27  13.690000  13.690000\n",
      "2020-04-28  13.720000  13.860000\n",
      "2020-04-29  14.050000  14.580000\n",
      "2020-04-30  14.560000  14.600000\n",
      "2020-05-04  14.490000  14.720000\n",
      "2020-05-05  14.760000  14.780000\n",
      "2020-05-06  14.800000  14.870000\n",
      "2020-05-07  14.930000  14.570000\n",
      "2020-05-08  14.660000  15.100000\n",
      "2020-05-11  15.070000  15.190000\n",
      "2020-05-12  15.260000  15.320000\n",
      "2020-05-13  15.290000  15.010000\n",
      "2020-05-14  14.930000  14.940000\n",
      "2020-05-15  14.860000  14.630000\n",
      "2020-05-18  14.670000  15.440000\n",
      "2020-05-19  15.310000  14.600000\n",
      "2020-05-20  14.710000  14.900000\n",
      "2020-05-21  14.850000  14.530000\n",
      "2020-05-22  14.470000  14.670000\n",
      "2020-05-25  14.700000  14.820000\n",
      "2020-05-26  14.860000  15.000000\n",
      "2020-05-27  15.030000  15.200000\n",
      "2020-05-28  15.280000  15.080000\n",
      "2020-05-29  15.070000  14.810000\n",
      "2020-06-01  14.780000  15.120000\n",
      "2020-06-02  15.090000  15.080000\n",
      "2020-06-03  15.210000  15.260000\n",
      "2020-06-04  15.200000  15.180000\n",
      "2020-06-05  15.270000  15.650000\n",
      "2020-06-08  15.650000  15.850000\n",
      "2020-06-09  15.800000  15.790000\n",
      "2020-06-10  15.770000  15.470000\n",
      "2020-06-11  15.310000  14.790000\n",
      "2020-06-12  14.890000  15.380000\n",
      "2020-06-15  15.320000  15.180000\n",
      "2020-06-16  15.400000  15.170000\n",
      "2020-06-17  15.200000  14.910000\n",
      "2020-06-18  14.880000  14.880000\n",
      "2020-06-19  14.990000  15.200000\n",
      "2020-06-22  15.170000  15.300000\n",
      "2020-06-23  15.480000  15.160000\n",
      "2020-06-24  15.020000  15.080000\n",
      "2020-06-25  15.050000  14.900000\n",
      "2020-06-26  14.930000  14.750000\n",
      "2020-06-29  14.820000  14.920000\n",
      "2020-06-30  14.870000  14.750000\n",
      "2020-07-01  14.740000  14.650000\n",
      "2020-07-02  14.740000  14.850000\n",
      "2020-07-03  14.970000  14.940000\n",
      "2020-07-06  15.030000  15.140000\n",
      "2020-07-07  15.130000  14.750000\n",
      "2020-07-08  14.840000  14.560000\n",
      "2020-07-09  14.590000  14.040000\n",
      "2020-07-10  14.050000  14.030000\n",
      "2020-07-13  14.130000  14.040000\n",
      "2020-07-14  14.040000  14.070000\n",
      "2020-07-15  14.450000  14.850000\n",
      "2020-07-16  14.690000  14.570000\n",
      "2020-07-17  14.600000  14.350000\n",
      "2020-07-20  14.380000  14.780000\n",
      "2020-07-21  14.780000  15.060000\n",
      "2020-07-22  15.100000  15.200000\n",
      "2020-07-23  15.220000  15.140000\n",
      "2020-07-24  15.050000  14.640000\n",
      "2020-07-27  14.610000  14.530000\n",
      "2020-07-28  14.540000  14.430000\n",
      "2020-07-29  14.420000  14.310000\n",
      "2020-07-30  14.240000  14.140000\n",
      "2020-07-31  14.240000  13.990000\n",
      "2020-08-03  14.130000  14.170000\n",
      "2020-08-04  14.260000  14.060000\n",
      "2020-08-05  14.010000  14.000000\n",
      "2020-08-06  14.030000  14.170000\n",
      "2020-08-07  14.200000  14.140000\n",
      "2020-08-10  14.210000  14.060000\n",
      "2020-08-11  14.130000  14.370000\n",
      "2020-08-12  14.490000  14.500000\n",
      "2020-08-13  14.570000  14.300000\n",
      "2020-08-14  14.330000  14.240000\n",
      "2020-08-17  14.230000  14.380000\n",
      "2020-08-18  14.420000  14.230000\n",
      "2020-08-19  14.210000  14.220000\n",
      "2020-08-20  14.180000  13.980000\n",
      "2020-08-21  14.010000  13.910000\n",
      "2020-08-24        NaN        NaN\n"
     ]
    }
   ],
   "source": [
    "df_activa = fn.func_inv_activa(p_data_archivos=data_archivos, p_arch0=archivos[0], p_precios=precios, p_global_tickers=global_tickers, p_dates=dates)"
   ]
  },
  {
   "cell_type": "markdown",
   "metadata": {},
   "source": [
    "<font color= #6B6B6B> <font size = 6> **5. Conclusiones** </font>"
   ]
  },
  {
   "cell_type": "markdown",
   "metadata": {},
   "source": [
    "***"
   ]
  },
  {
   "cell_type": "markdown",
   "metadata": {},
   "source": [
    "<font color= #6B6B6B> <font size = 2>Uno de los grandes dilemas en finanzas es cómo armar un portafolio, ¿qué es mejor, inversión pasiva o activa?. \n",
    "\n",
    "Como se observa en la gráfica de inversión pasiva, si se invierte exactamente como el mercado lo está haciendo es probable que no se obtengan los mismos resultados que en una inversión activa. Está comprobado que es mejor estar monitoreando las operaciones diarias y tomando decisiones que puedan mejorar los resultados, por ejemplo, vender cuando el mercado es bajista y comprar cuando el mercado es alcista, o bien utilizando un algoritmo con estas condiciones y rebalanceo hacen que los resultados sean mejores.</font>"
   ]
  }
 ],
 "metadata": {
  "kernelspec": {
   "display_name": "Python 3",
   "language": "python",
   "name": "python3"
  },
  "language_info": {
   "codemirror_mode": {
    "name": "ipython",
    "version": 3
   },
   "file_extension": ".py",
   "mimetype": "text/x-python",
   "name": "python",
   "nbconvert_exporter": "python",
   "pygments_lexer": "ipython3",
   "version": "3.8.3"
  }
 },
 "nbformat": 4,
 "nbformat_minor": 1
}
