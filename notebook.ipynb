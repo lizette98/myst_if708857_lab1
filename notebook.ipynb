{
 "cells": [
  {
   "cell_type": "markdown",
   "metadata": {},
   "source": [
    "<img src=http://oci02.img.iteso.mx/identidad_de_instancia_2018/ITESO/Logos%20ITESO/Logo-ITESO-Principal.jpg>"
   ]
  },
  {
   "cell_type": "markdown",
   "metadata": {},
   "source": [
    "<center><font color=#555555><font size=6> Ingeniería Financiera </font> <br> <br>\n",
    "<center><font color=#555555><font size=5> Microestructura y Sistemas de Trading </font> <br> <br> <br>\n",
    "<center><font color=#555555><font size=5> I.F. Andrea Lizette Contreras González </font> <br> <br>\n",
    "    <center><font color= #555555> <font size = 4> 13 de Septiembe 2020 </a> | <font color= #555555> <font size=4> Repositorio: <a href='https://github.com/lizette98/myst_if708857_lab1'>Lab1</a></font> <br> <br> <br> <br> <br> <br> <br>"
   ]
  },
  {
   "cell_type": "markdown",
   "metadata": {},
   "source": [
    "<center><font color=#555555><font size=8> Laboratorio 1 </font> <br> <br>\n",
    "<center><font color=#555555><font size=5> Inversión del Capital </font> <br> <br>"
   ]
  },
  {
   "cell_type": "markdown",
   "metadata": {},
   "source": [
    "<font color= #555555> <font size = 5> **Abstract** </font>\n",
    "    \n",
    "<font color= #6B6B6B> <font size = 2> Este documento fue elaborado por Andrea Lizette Contreras González, como un trabajo parcial para la materia de Microestructura y Sistemas de Trading - ITE1731, la cual es parte del curriculum de la licenciatura en Ingeniería Financiera, ofertada por la universidad ITESO. En el presente trabajo se plantea la respuesta a la siguiente pregutna: ¿Qué estrategia de inversión propondrías si tu trabajo fuera administrar 1 Millón de pesos?</font>"
   ]
  },
  {
   "cell_type": "markdown",
   "metadata": {},
   "source": [
    "<font color= #6B6B6B> <font size = 6> **0. Librerías y Dependencias** </font>"
   ]
  },
  {
   "cell_type": "markdown",
   "metadata": {},
   "source": [
    "------------------------"
   ]
  },
  {
   "cell_type": "markdown",
   "metadata": {},
   "source": [
    "<font color= #6B6B6B> <font size = 5> **0.1 Librerías** </font> <font color= #555555>\n",
    "    \n",
    "    \n",
    "Para correr este notebook es necesario tener instaladas y/o en el archivo requirements.txt las siguientes librerías : <br><br>\n",
    "\n",
    "- pandas>=1.1.1\n",
    "- numpy>=1.19.1\n",
    "- jupyter>=1.0.0\n",
    "- yfinance>=0.1.54\n",
    "- plotly>=4.10.0"
   ]
  },
  {
   "cell_type": "markdown",
   "metadata": {},
   "source": [
    "\n",
    "<font color= #6B6B6B> <font size = 5> **0.2 Dependencias** </font> <font color= #555555>\n",
    "    \n",
    "    \n",
    "Para correr este notebook es necesario contar con los siguientes archivos y dependencias externas: <br><br>\n",
    "    \n",
    "    \n",
    "\n",
    "* files/precios.csv : Precios históricos\n",
    "* files/datos.txt : Otros datos históricos"
   ]
  },
  {
   "cell_type": "markdown",
   "metadata": {
    "pycharm": {
     "name": "#%% md\n"
    }
   },
   "source": [
    "<font color= #6B6B6B> <font size = 6> **1. Introducción** </font>"
   ]
  },
  {
   "cell_type": "markdown",
   "metadata": {},
   "source": [
    "***"
   ]
  },
  {
   "cell_type": "markdown",
   "metadata": {
    "pycharm": {
     "name": "#%% md\n"
    }
   },
   "source": [
    "<font color= #6B6B6B> <font size = 6> **2. Objetivos** </font>"
   ]
  },
  {
   "cell_type": "markdown",
   "metadata": {},
   "source": [
    "***"
   ]
  },
  {
   "cell_type": "markdown",
   "metadata": {},
   "source": [
    "<font color= #6B6B6B> <font size = 6> **3. Datos** </font>"
   ]
  },
  {
   "cell_type": "markdown",
   "metadata": {},
   "source": [
    "***"
   ]
  },
  {
   "cell_type": "code",
   "execution_count": 1,
   "metadata": {
    "pycharm": {
     "name": "#%%\n"
    }
   },
   "outputs": [],
   "source": [
    "# En esta sección es opcional incluir código para mostrar/visualizar\n",
    "# los datos con los que se trabajó en el laboratorio"
   ]
  },
  {
   "cell_type": "markdown",
   "metadata": {},
   "source": [
    "<font color= #6B6B6B> <font size = 6> **4. Procesos** </font>"
   ]
  },
  {
   "cell_type": "markdown",
   "metadata": {},
   "source": [
    "***"
   ]
  },
  {
   "cell_type": "markdown",
   "metadata": {},
   "source": [
    "<font color= #6B6B6B> <font size = 5> **4.1 Lista de archivos a leer (NAFTRAC)** </font>"
   ]
  },
  {
   "cell_type": "markdown",
   "metadata": {},
   "source": [
    "<font color= #6B6B6B> <font size = 2> Primero, se leen todos los archivos contenidos con la información histórica del ETF iShares NAFTRAC, obtenidos de la página oficial de <a href='https://www.blackrock.com/mx/intermediarios/productos/251895/ishares-naftrac-fund'>BlackRock</a></font>\n",
    "    \n",
    "<font color= #6B6B6B> <font size = 2>Estos archivos se guardan en un diccionario:</font>"
   ]
  },
  {
   "cell_type": "code",
   "execution_count": 2,
   "metadata": {},
   "outputs": [],
   "source": [
    "import functions as fn\n",
    "import data as dt"
   ]
  },
  {
   "cell_type": "code",
   "execution_count": 3,
   "metadata": {},
   "outputs": [
    {
     "name": "stdout",
     "output_type": "stream",
     "text": [
      "['NAFTRAC_310118', 'NAFTRAC_280218', 'NAFTRAC_280318', 'NAFTRAC_300418', 'NAFTRAC_310518', 'NAFTRAC_290618']\n"
     ]
    }
   ],
   "source": [
    "archivos = dt.archivos\n",
    "data_archivos = dt.data_archivos\n",
    "print(list(data_archivos.keys())[0:6])"
   ]
  },
  {
   "cell_type": "markdown",
   "metadata": {},
   "source": [
    "<font color= #6B6B6B> <font size = 5> **4.2 Vector de fechas** </font>"
   ]
  },
  {
   "cell_type": "markdown",
   "metadata": {},
   "source": [
    "<font color= #6B6B6B> <font size = 2>Se manda a llamar la función creada para el vector de fechas, creada a partir de los nombres de los archivos anteriores.</font>"
   ]
  },
  {
   "cell_type": "code",
   "execution_count": 4,
   "metadata": {},
   "outputs": [
    {
     "name": "stdout",
     "output_type": "stream",
     "text": [
      "['31-01-2018', '28-02-2018', '28-03-2018', '30-04-2018']\n",
      "['2018-01-31', '2018-02-28', '2018-03-28', '2018-04-30']\n"
     ]
    }
   ],
   "source": [
    "dates = fn.func_fechas(p_archivos=archivos)\n",
    "print(dates['t_fechas'][0:4])\n",
    "print(dates['i_fechas'][0:4])"
   ]
  },
  {
   "cell_type": "markdown",
   "metadata": {},
   "source": [
    "<font color= #6B6B6B> <font size = 2>El primer vector de fechas (t_fechas) será utilizado para la descarga de precios en yfinance y el segundo (i_fechas) como indexador de archivos.</font>"
   ]
  },
  {
   "cell_type": "markdown",
   "metadata": {},
   "source": [
    "<font color= #6B6B6B> <font size = 5> **4.3 Vector de tickers para yfinance** </font>"
   ]
  },
  {
   "cell_type": "markdown",
   "metadata": {},
   "source": [
    "<font color= #6B6B6B> <font size = 2>Se manda a llamar la función creada para el vector de tickers, en la cual ya están reemplazados los tickers que han cambiado o son diferentes en yfinance.</font>"
   ]
  },
  {
   "cell_type": "code",
   "execution_count": 5,
   "metadata": {},
   "outputs": [
    {
     "name": "stdout",
     "output_type": "stream",
     "text": [
      "['AC.MX', 'ALFAA.MX', 'ALPEKA.MX', 'ALSEA.MX', 'AMXL.MX', 'ASURB.MX', 'BBAJIOO.MX', 'BIMBOA.MX']\n"
     ]
    }
   ],
   "source": [
    "global_tickers = fn.func_tickers(p_archivos=archivos, p_data_archivos=data_archivos)\n",
    "print(global_tickers[0:8])"
   ]
  },
  {
   "cell_type": "markdown",
   "metadata": {},
   "source": [
    "<font color= #6B6B6B> <font size = 5> **4.4 Precios históricos** </font>"
   ]
  },
  {
   "cell_type": "markdown",
   "metadata": {},
   "source": [
    "<font color= #6B6B6B> <font size = 2>Se descargan los precios históricos de yfinance, se ordenan con las fechas de interés y lexicográficamente.</font>"
   ]
  },
  {
   "cell_type": "code",
   "execution_count": 6,
   "metadata": {},
   "outputs": [
    {
     "name": "stdout",
     "output_type": "stream",
     "text": [
      "[*********************100%***********************]  39 of 39 completed\n",
      "tardo 7.01 segundos\n"
     ]
    },
    {
     "data": {
      "text/html": [
       "<div>\n",
       "<style scoped>\n",
       "    .dataframe tbody tr th:only-of-type {\n",
       "        vertical-align: middle;\n",
       "    }\n",
       "\n",
       "    .dataframe tbody tr th {\n",
       "        vertical-align: top;\n",
       "    }\n",
       "\n",
       "    .dataframe thead th {\n",
       "        text-align: right;\n",
       "    }\n",
       "</style>\n",
       "<table border=\"1\" class=\"dataframe\">\n",
       "  <thead>\n",
       "    <tr style=\"text-align: right;\">\n",
       "      <th></th>\n",
       "      <th>AC.MX</th>\n",
       "      <th>ALFAA.MX</th>\n",
       "      <th>ALPEKA.MX</th>\n",
       "      <th>ALSEA.MX</th>\n",
       "      <th>AMXL.MX</th>\n",
       "      <th>ASURB.MX</th>\n",
       "      <th>BBAJIOO.MX</th>\n",
       "      <th>BIMBOA.MX</th>\n",
       "      <th>BOLSAA.MX</th>\n",
       "      <th>CEMEXCPO.MX</th>\n",
       "      <th>CUERVO.MX</th>\n",
       "      <th>ELEKTRA.MX</th>\n",
       "      <th>FEMSAUBD.MX</th>\n",
       "      <th>GAPB.MX</th>\n",
       "      <th>GCARSOA1.MX</th>\n",
       "      <th>GCC.MX</th>\n",
       "      <th>GENTERA.MX</th>\n",
       "      <th>GFINBURO.MX</th>\n",
       "      <th>GFNORTEO.MX</th>\n",
       "      <th>GMEXICOB.MX</th>\n",
       "      <th>GMXT.MX</th>\n",
       "      <th>GRUMAB.MX</th>\n",
       "      <th>IENOVA.MX</th>\n",
       "      <th>KIMBERA.MX</th>\n",
       "      <th>LABB.MX</th>\n",
       "      <th>LALAB.MX</th>\n",
       "      <th>LIVEPOLC-1.MX</th>\n",
       "      <th>MEGACPO.MX</th>\n",
       "      <th>NEMAKA.MX</th>\n",
       "      <th>OMAB.MX</th>\n",
       "      <th>ORBIA.MX</th>\n",
       "      <th>PE&amp;OLES.MX</th>\n",
       "      <th>PINFRA.MX</th>\n",
       "      <th>Q.MX</th>\n",
       "      <th>RA.MX</th>\n",
       "      <th>TLEVISACPO.MX</th>\n",
       "      <th>VESTA.MX</th>\n",
       "      <th>VOLARA.MX</th>\n",
       "      <th>WALMEX.MX</th>\n",
       "    </tr>\n",
       "    <tr>\n",
       "      <th>Date</th>\n",
       "      <th></th>\n",
       "      <th></th>\n",
       "      <th></th>\n",
       "      <th></th>\n",
       "      <th></th>\n",
       "      <th></th>\n",
       "      <th></th>\n",
       "      <th></th>\n",
       "      <th></th>\n",
       "      <th></th>\n",
       "      <th></th>\n",
       "      <th></th>\n",
       "      <th></th>\n",
       "      <th></th>\n",
       "      <th></th>\n",
       "      <th></th>\n",
       "      <th></th>\n",
       "      <th></th>\n",
       "      <th></th>\n",
       "      <th></th>\n",
       "      <th></th>\n",
       "      <th></th>\n",
       "      <th></th>\n",
       "      <th></th>\n",
       "      <th></th>\n",
       "      <th></th>\n",
       "      <th></th>\n",
       "      <th></th>\n",
       "      <th></th>\n",
       "      <th></th>\n",
       "      <th></th>\n",
       "      <th></th>\n",
       "      <th></th>\n",
       "      <th></th>\n",
       "      <th></th>\n",
       "      <th></th>\n",
       "      <th></th>\n",
       "      <th></th>\n",
       "      <th></th>\n",
       "    </tr>\n",
       "  </thead>\n",
       "  <tbody>\n",
       "    <tr>\n",
       "      <th>2018-01-31</th>\n",
       "      <td>135.050003</td>\n",
       "      <td>23.360001</td>\n",
       "      <td>26.860001</td>\n",
       "      <td>60.880001</td>\n",
       "      <td>17.440001</td>\n",
       "      <td>362.220001</td>\n",
       "      <td>39.330002</td>\n",
       "      <td>45.400002</td>\n",
       "      <td>35.619999</td>\n",
       "      <td>15.48</td>\n",
       "      <td>33.860001</td>\n",
       "      <td>672.390015</td>\n",
       "      <td>181.520004</td>\n",
       "      <td>194.589996</td>\n",
       "      <td>69.820000</td>\n",
       "      <td>104.760002</td>\n",
       "      <td>16.870001</td>\n",
       "      <td>32.930000</td>\n",
       "      <td>119.580002</td>\n",
       "      <td>65.980003</td>\n",
       "      <td>33.759998</td>\n",
       "      <td>222.300003</td>\n",
       "      <td>97.010002</td>\n",
       "      <td>34.950001</td>\n",
       "      <td>20.450001</td>\n",
       "      <td>29.770000</td>\n",
       "      <td>137.759995</td>\n",
       "      <td>85.160004</td>\n",
       "      <td>15.54</td>\n",
       "      <td>94.989998</td>\n",
       "      <td>52.750000</td>\n",
       "      <td>431.350006</td>\n",
       "      <td>190.779999</td>\n",
       "      <td>46.500000</td>\n",
       "      <td>115.919998</td>\n",
       "      <td>77.019997</td>\n",
       "      <td>25.639999</td>\n",
       "      <td>15.930000</td>\n",
       "      <td>46.639999</td>\n",
       "    </tr>\n",
       "    <tr>\n",
       "      <th>2018-02-28</th>\n",
       "      <td>130.839996</td>\n",
       "      <td>22.389999</td>\n",
       "      <td>24.420000</td>\n",
       "      <td>64.260002</td>\n",
       "      <td>17.340000</td>\n",
       "      <td>334.029999</td>\n",
       "      <td>41.049999</td>\n",
       "      <td>44.110001</td>\n",
       "      <td>34.939999</td>\n",
       "      <td>12.45</td>\n",
       "      <td>34.770000</td>\n",
       "      <td>554.770020</td>\n",
       "      <td>174.520004</td>\n",
       "      <td>182.119995</td>\n",
       "      <td>66.190002</td>\n",
       "      <td>99.669998</td>\n",
       "      <td>15.400000</td>\n",
       "      <td>30.120001</td>\n",
       "      <td>113.160004</td>\n",
       "      <td>64.349998</td>\n",
       "      <td>30.870001</td>\n",
       "      <td>218.199997</td>\n",
       "      <td>89.300003</td>\n",
       "      <td>34.349998</td>\n",
       "      <td>20.389999</td>\n",
       "      <td>27.610001</td>\n",
       "      <td>128.699997</td>\n",
       "      <td>83.440002</td>\n",
       "      <td>13.41</td>\n",
       "      <td>92.110001</td>\n",
       "      <td>52.840000</td>\n",
       "      <td>411.940002</td>\n",
       "      <td>192.380005</td>\n",
       "      <td>49.580002</td>\n",
       "      <td>116.150002</td>\n",
       "      <td>64.510002</td>\n",
       "      <td>25.900000</td>\n",
       "      <td>16.780001</td>\n",
       "      <td>44.000000</td>\n",
       "    </tr>\n",
       "    <tr>\n",
       "      <th>2018-03-28</th>\n",
       "      <td>125.709999</td>\n",
       "      <td>23.290001</td>\n",
       "      <td>25.260000</td>\n",
       "      <td>63.529999</td>\n",
       "      <td>17.250000</td>\n",
       "      <td>306.420013</td>\n",
       "      <td>38.910000</td>\n",
       "      <td>39.779999</td>\n",
       "      <td>34.740002</td>\n",
       "      <td>12.03</td>\n",
       "      <td>36.900002</td>\n",
       "      <td>510.079987</td>\n",
       "      <td>165.820007</td>\n",
       "      <td>179.630005</td>\n",
       "      <td>64.029999</td>\n",
       "      <td>97.790001</td>\n",
       "      <td>13.260000</td>\n",
       "      <td>30.090000</td>\n",
       "      <td>111.129997</td>\n",
       "      <td>60.549999</td>\n",
       "      <td>31.700001</td>\n",
       "      <td>208.570007</td>\n",
       "      <td>88.919998</td>\n",
       "      <td>34.040001</td>\n",
       "      <td>19.700001</td>\n",
       "      <td>24.730000</td>\n",
       "      <td>135.500000</td>\n",
       "      <td>83.970001</td>\n",
       "      <td>14.94</td>\n",
       "      <td>88.650002</td>\n",
       "      <td>55.639999</td>\n",
       "      <td>367.260010</td>\n",
       "      <td>180.740005</td>\n",
       "      <td>50.320000</td>\n",
       "      <td>111.919998</td>\n",
       "      <td>57.830002</td>\n",
       "      <td>26.990000</td>\n",
       "      <td>14.650000</td>\n",
       "      <td>46.259998</td>\n",
       "    </tr>\n",
       "    <tr>\n",
       "      <th>2018-04-30</th>\n",
       "      <td>129.259995</td>\n",
       "      <td>24.010000</td>\n",
       "      <td>26.809999</td>\n",
       "      <td>69.559998</td>\n",
       "      <td>17.309999</td>\n",
       "      <td>336.329987</td>\n",
       "      <td>39.889999</td>\n",
       "      <td>43.529999</td>\n",
       "      <td>36.080002</td>\n",
       "      <td>11.70</td>\n",
       "      <td>31.680000</td>\n",
       "      <td>510.010010</td>\n",
       "      <td>180.779999</td>\n",
       "      <td>194.539993</td>\n",
       "      <td>67.199997</td>\n",
       "      <td>108.849998</td>\n",
       "      <td>14.950000</td>\n",
       "      <td>31.160000</td>\n",
       "      <td>117.019997</td>\n",
       "      <td>62.169998</td>\n",
       "      <td>29.850000</td>\n",
       "      <td>228.429993</td>\n",
       "      <td>82.330002</td>\n",
       "      <td>33.939999</td>\n",
       "      <td>18.190001</td>\n",
       "      <td>23.920000</td>\n",
       "      <td>124.779999</td>\n",
       "      <td>86.000000</td>\n",
       "      <td>14.11</td>\n",
       "      <td>99.040001</td>\n",
       "      <td>58.419998</td>\n",
       "      <td>392.540009</td>\n",
       "      <td>191.639999</td>\n",
       "      <td>52.209999</td>\n",
       "      <td>119.480003</td>\n",
       "      <td>67.120003</td>\n",
       "      <td>27.000000</td>\n",
       "      <td>11.690000</td>\n",
       "      <td>51.970001</td>\n",
       "    </tr>\n",
       "    <tr>\n",
       "      <th>2018-05-31</th>\n",
       "      <td>119.680000</td>\n",
       "      <td>20.480000</td>\n",
       "      <td>29.750000</td>\n",
       "      <td>65.410004</td>\n",
       "      <td>15.500000</td>\n",
       "      <td>316.660004</td>\n",
       "      <td>37.799999</td>\n",
       "      <td>38.060001</td>\n",
       "      <td>32.509998</td>\n",
       "      <td>11.86</td>\n",
       "      <td>32.360001</td>\n",
       "      <td>509.899994</td>\n",
       "      <td>166.250000</td>\n",
       "      <td>169.940002</td>\n",
       "      <td>62.169998</td>\n",
       "      <td>105.019997</td>\n",
       "      <td>15.070000</td>\n",
       "      <td>28.170000</td>\n",
       "      <td>106.199997</td>\n",
       "      <td>49.520000</td>\n",
       "      <td>27.410000</td>\n",
       "      <td>209.149994</td>\n",
       "      <td>83.339996</td>\n",
       "      <td>33.189999</td>\n",
       "      <td>16.900000</td>\n",
       "      <td>21.730000</td>\n",
       "      <td>113.110001</td>\n",
       "      <td>85.000000</td>\n",
       "      <td>13.50</td>\n",
       "      <td>95.379997</td>\n",
       "      <td>56.189999</td>\n",
       "      <td>336.880005</td>\n",
       "      <td>179.300003</td>\n",
       "      <td>51.049999</td>\n",
       "      <td>111.129997</td>\n",
       "      <td>66.599998</td>\n",
       "      <td>25.070000</td>\n",
       "      <td>10.300000</td>\n",
       "      <td>50.060001</td>\n",
       "    </tr>\n",
       "  </tbody>\n",
       "</table>\n",
       "</div>"
      ],
      "text/plain": [
       "                 AC.MX   ALFAA.MX  ALPEKA.MX   ALSEA.MX    AMXL.MX    ASURB.MX  BBAJIOO.MX  BIMBOA.MX  BOLSAA.MX  CEMEXCPO.MX  CUERVO.MX  ELEKTRA.MX  FEMSAUBD.MX     GAPB.MX  GCARSOA1.MX      GCC.MX  GENTERA.MX  GFINBURO.MX  GFNORTEO.MX  GMEXICOB.MX    GMXT.MX   GRUMAB.MX  IENOVA.MX  KIMBERA.MX    LABB.MX   LALAB.MX  LIVEPOLC-1.MX  MEGACPO.MX  NEMAKA.MX    OMAB.MX   ORBIA.MX  PE&OLES.MX   PINFRA.MX       Q.MX       RA.MX  TLEVISACPO.MX   VESTA.MX  VOLARA.MX  WALMEX.MX\n",
       "Date                                                                                                                                                                                                                                                                                                                                                                                                                                                                                    \n",
       "2018-01-31  135.050003  23.360001  26.860001  60.880001  17.440001  362.220001   39.330002  45.400002  35.619999        15.48  33.860001  672.390015   181.520004  194.589996    69.820000  104.760002   16.870001    32.930000   119.580002    65.980003  33.759998  222.300003  97.010002   34.950001  20.450001  29.770000     137.759995   85.160004      15.54  94.989998  52.750000  431.350006  190.779999  46.500000  115.919998      77.019997  25.639999  15.930000  46.639999\n",
       "2018-02-28  130.839996  22.389999  24.420000  64.260002  17.340000  334.029999   41.049999  44.110001  34.939999        12.45  34.770000  554.770020   174.520004  182.119995    66.190002   99.669998   15.400000    30.120001   113.160004    64.349998  30.870001  218.199997  89.300003   34.349998  20.389999  27.610001     128.699997   83.440002      13.41  92.110001  52.840000  411.940002  192.380005  49.580002  116.150002      64.510002  25.900000  16.780001  44.000000\n",
       "2018-03-28  125.709999  23.290001  25.260000  63.529999  17.250000  306.420013   38.910000  39.779999  34.740002        12.03  36.900002  510.079987   165.820007  179.630005    64.029999   97.790001   13.260000    30.090000   111.129997    60.549999  31.700001  208.570007  88.919998   34.040001  19.700001  24.730000     135.500000   83.970001      14.94  88.650002  55.639999  367.260010  180.740005  50.320000  111.919998      57.830002  26.990000  14.650000  46.259998\n",
       "2018-04-30  129.259995  24.010000  26.809999  69.559998  17.309999  336.329987   39.889999  43.529999  36.080002        11.70  31.680000  510.010010   180.779999  194.539993    67.199997  108.849998   14.950000    31.160000   117.019997    62.169998  29.850000  228.429993  82.330002   33.939999  18.190001  23.920000     124.779999   86.000000      14.11  99.040001  58.419998  392.540009  191.639999  52.209999  119.480003      67.120003  27.000000  11.690000  51.970001\n",
       "2018-05-31  119.680000  20.480000  29.750000  65.410004  15.500000  316.660004   37.799999  38.060001  32.509998        11.86  32.360001  509.899994   166.250000  169.940002    62.169998  105.019997   15.070000    28.170000   106.199997    49.520000  27.410000  209.149994  83.339996   33.189999  16.900000  21.730000     113.110001   85.000000      13.50  95.379997  56.189999  336.880005  179.300003  51.049999  111.129997      66.599998  25.070000  10.300000  50.060001"
      ]
     },
     "execution_count": 6,
     "metadata": {},
     "output_type": "execute_result"
    }
   ],
   "source": [
    "precios = fn.func_precios(p_global_tickers=global_tickers, p_dates=dates)\n",
    "precios.head()"
   ]
  },
  {
   "cell_type": "markdown",
   "metadata": {},
   "source": [
    "<font color= #6B6B6B> <font size = 5> **4.5 Postura inicial en Inversión Pasiva** </font>"
   ]
  },
  {
   "cell_type": "markdown",
   "metadata": {},
   "source": [
    "<font color= #6B6B6B> <font size = 2>Se calcula la posición inicial con un millón de pesos de capital y comisión de 0.00125. Con esto se obtienen los títulos por acción, capital destinado por acción, la postura y la comisión que se paga por ejecutar la misma; además del efectivo libre en la postura.</font>"
   ]
  },
  {
   "cell_type": "code",
   "execution_count": 7,
   "metadata": {},
   "outputs": [
    {
     "name": "stdout",
     "output_type": "stream",
     "text": [
      "    timestamp     capital    rend  rend_acum\n",
      "0  30-01-2018  1000000.00  0.0000     0.0000\n",
      "1  31-01-2018   998805.36 -0.0012    -0.0012\n"
     ]
    }
   ],
   "source": [
    "df_pasiva = fn.f_pi_pasiva(p_data_archivos=data_archivos, p_arch0=archivos[0], p_precios=precios, p_archivos=archivos, p_dates=dates)\n",
    "print(df_pasiva[0:2])"
   ]
  },
  {
   "cell_type": "markdown",
   "metadata": {},
   "source": [
    "<font color= green> <font size = 4> **4.5.1 Evolución de la Postura inicial en Inversión Pasiva** </font>"
   ]
  },
  {
   "cell_type": "markdown",
   "metadata": {},
   "source": [
    "<font color= #6B6B6B> <font size = 2>A partir de la posición inicial se calcula la evolución de la Inversión Pasiva en todos los meses:</font>"
   ]
  },
  {
   "cell_type": "code",
   "execution_count": 8,
   "metadata": {},
   "outputs": [
    {
     "data": {
      "text/html": [
       "<div>\n",
       "<style scoped>\n",
       "    .dataframe tbody tr th:only-of-type {\n",
       "        vertical-align: middle;\n",
       "    }\n",
       "\n",
       "    .dataframe tbody tr th {\n",
       "        vertical-align: top;\n",
       "    }\n",
       "\n",
       "    .dataframe thead th {\n",
       "        text-align: right;\n",
       "    }\n",
       "</style>\n",
       "<table border=\"1\" class=\"dataframe\">\n",
       "  <thead>\n",
       "    <tr style=\"text-align: right;\">\n",
       "      <th></th>\n",
       "      <th>timestamp</th>\n",
       "      <th>capital</th>\n",
       "      <th>rend</th>\n",
       "      <th>rend_acum</th>\n",
       "    </tr>\n",
       "  </thead>\n",
       "  <tbody>\n",
       "    <tr>\n",
       "      <th>0</th>\n",
       "      <td>30-01-2018</td>\n",
       "      <td>1000000.00</td>\n",
       "      <td>0.0000</td>\n",
       "      <td>0.0000</td>\n",
       "    </tr>\n",
       "    <tr>\n",
       "      <th>1</th>\n",
       "      <td>31-01-2018</td>\n",
       "      <td>998805.36</td>\n",
       "      <td>-0.0012</td>\n",
       "      <td>-0.0012</td>\n",
       "    </tr>\n",
       "    <tr>\n",
       "      <th>2</th>\n",
       "      <td>28-02-2018</td>\n",
       "      <td>943330.67</td>\n",
       "      <td>-0.0555</td>\n",
       "      <td>-0.0567</td>\n",
       "    </tr>\n",
       "    <tr>\n",
       "      <th>3</th>\n",
       "      <td>28-03-2018</td>\n",
       "      <td>918905.55</td>\n",
       "      <td>-0.0259</td>\n",
       "      <td>-0.0826</td>\n",
       "    </tr>\n",
       "    <tr>\n",
       "      <th>4</th>\n",
       "      <td>30-04-2018</td>\n",
       "      <td>961771.83</td>\n",
       "      <td>0.0466</td>\n",
       "      <td>-0.0360</td>\n",
       "    </tr>\n",
       "  </tbody>\n",
       "</table>\n",
       "</div>"
      ],
      "text/plain": [
       "    timestamp     capital    rend  rend_acum\n",
       "0  30-01-2018  1000000.00  0.0000     0.0000\n",
       "1  31-01-2018   998805.36 -0.0012    -0.0012\n",
       "2  28-02-2018   943330.67 -0.0555    -0.0567\n",
       "3  28-03-2018   918905.55 -0.0259    -0.0826\n",
       "4  30-04-2018   961771.83  0.0466    -0.0360"
      ]
     },
     "execution_count": 8,
     "metadata": {},
     "output_type": "execute_result"
    }
   ],
   "source": [
    "df_pasiva.head()"
   ]
  },
  {
   "cell_type": "markdown",
   "metadata": {},
   "source": [
    "<font color= green> <font size = 4> **4.5.2 Gráfica de la Evolución de la Postura inicial en Inversión Pasiva** </font>"
   ]
  },
  {
   "cell_type": "markdown",
   "metadata": {},
   "source": [
    "<font color= #6B6B6B> <font size = 2>En la siguiente gráfica se muestra el comportamiento de la inversión pasiva de capital. \n",
    "\n",
    "Podemos observar grandes pérdidas, la más fuerte en marzo 2020 en la cual se peridó el 30% aproximadamente. Esto principalmente a causa de la incertidumbre por la pandemia covid-19.</font>"
   ]
  },
  {
   "cell_type": "code",
   "execution_count": 37,
   "metadata": {},
   "outputs": [
    {
     "data": {
      "application/vnd.plotly.v1+json": {
       "config": {
        "plotlyServerURL": "https://plot.ly"
       },
       "data": [
        {
         "hoverlabel": {
          "namelength": 0
         },
         "hovertemplate": "timestamp=%{x}<br>capital=%{y}",
         "legendgroup": "",
         "line": {
          "color": "green",
          "dash": "solid"
         },
         "mode": "lines",
         "name": "",
         "showlegend": false,
         "type": "scatter",
         "x": [
          "30-01-2018",
          "31-01-2018",
          "28-02-2018",
          "28-03-2018",
          "30-04-2018",
          "31-05-2018",
          "29-06-2018",
          "31-07-2018",
          "31-08-2018",
          "28-09-2018",
          "31-10-2018",
          "30-11-2018",
          "31-12-2018",
          "31-01-2019",
          "28-02-2019",
          "29-03-2019",
          "30-04-2019",
          "31-05-2019",
          "28-06-2019",
          "31-07-2019",
          "30-08-2019",
          "30-09-2019",
          "31-10-2019",
          "29-11-2019",
          "31-12-2019",
          "31-01-2020",
          "28-02-2020",
          "31-03-2020",
          "30-04-2020",
          "29-05-2020",
          "30-06-2020",
          "31-07-2020",
          "21-08-2020"
         ],
         "xaxis": "x",
         "y": [
          1000000,
          998805.36,
          943330.67,
          918905.55,
          961771.83,
          890500.28,
          949877.58,
          985791.65,
          984427.59,
          983479.62,
          878821.1,
          838086.11,
          835787.89,
          880392.16,
          858747.3,
          865519.68,
          888034.6,
          854899.09,
          861786.41,
          822069.24,
          856926.41,
          865421.39,
          873212.93,
          863293.64,
          878762.02,
          888198.72,
          832224.46,
          702813.42,
          743778.01,
          737085.87,
          766673.15,
          753502.17,
          774727.83
         ],
         "yaxis": "y"
        }
       ],
       "layout": {
        "height": 500,
        "legend": {
         "tracegroupgap": 0
        },
        "template": {
         "data": {
          "bar": [
           {
            "error_x": {
             "color": "#2a3f5f"
            },
            "error_y": {
             "color": "#2a3f5f"
            },
            "marker": {
             "line": {
              "color": "#E5ECF6",
              "width": 0.5
             }
            },
            "type": "bar"
           }
          ],
          "barpolar": [
           {
            "marker": {
             "line": {
              "color": "#E5ECF6",
              "width": 0.5
             }
            },
            "type": "barpolar"
           }
          ],
          "carpet": [
           {
            "aaxis": {
             "endlinecolor": "#2a3f5f",
             "gridcolor": "white",
             "linecolor": "white",
             "minorgridcolor": "white",
             "startlinecolor": "#2a3f5f"
            },
            "baxis": {
             "endlinecolor": "#2a3f5f",
             "gridcolor": "white",
             "linecolor": "white",
             "minorgridcolor": "white",
             "startlinecolor": "#2a3f5f"
            },
            "type": "carpet"
           }
          ],
          "choropleth": [
           {
            "colorbar": {
             "outlinewidth": 0,
             "ticks": ""
            },
            "type": "choropleth"
           }
          ],
          "contour": [
           {
            "colorbar": {
             "outlinewidth": 0,
             "ticks": ""
            },
            "colorscale": [
             [
              0,
              "#0d0887"
             ],
             [
              0.1111111111111111,
              "#46039f"
             ],
             [
              0.2222222222222222,
              "#7201a8"
             ],
             [
              0.3333333333333333,
              "#9c179e"
             ],
             [
              0.4444444444444444,
              "#bd3786"
             ],
             [
              0.5555555555555556,
              "#d8576b"
             ],
             [
              0.6666666666666666,
              "#ed7953"
             ],
             [
              0.7777777777777778,
              "#fb9f3a"
             ],
             [
              0.8888888888888888,
              "#fdca26"
             ],
             [
              1,
              "#f0f921"
             ]
            ],
            "type": "contour"
           }
          ],
          "contourcarpet": [
           {
            "colorbar": {
             "outlinewidth": 0,
             "ticks": ""
            },
            "type": "contourcarpet"
           }
          ],
          "heatmap": [
           {
            "colorbar": {
             "outlinewidth": 0,
             "ticks": ""
            },
            "colorscale": [
             [
              0,
              "#0d0887"
             ],
             [
              0.1111111111111111,
              "#46039f"
             ],
             [
              0.2222222222222222,
              "#7201a8"
             ],
             [
              0.3333333333333333,
              "#9c179e"
             ],
             [
              0.4444444444444444,
              "#bd3786"
             ],
             [
              0.5555555555555556,
              "#d8576b"
             ],
             [
              0.6666666666666666,
              "#ed7953"
             ],
             [
              0.7777777777777778,
              "#fb9f3a"
             ],
             [
              0.8888888888888888,
              "#fdca26"
             ],
             [
              1,
              "#f0f921"
             ]
            ],
            "type": "heatmap"
           }
          ],
          "heatmapgl": [
           {
            "colorbar": {
             "outlinewidth": 0,
             "ticks": ""
            },
            "colorscale": [
             [
              0,
              "#0d0887"
             ],
             [
              0.1111111111111111,
              "#46039f"
             ],
             [
              0.2222222222222222,
              "#7201a8"
             ],
             [
              0.3333333333333333,
              "#9c179e"
             ],
             [
              0.4444444444444444,
              "#bd3786"
             ],
             [
              0.5555555555555556,
              "#d8576b"
             ],
             [
              0.6666666666666666,
              "#ed7953"
             ],
             [
              0.7777777777777778,
              "#fb9f3a"
             ],
             [
              0.8888888888888888,
              "#fdca26"
             ],
             [
              1,
              "#f0f921"
             ]
            ],
            "type": "heatmapgl"
           }
          ],
          "histogram": [
           {
            "marker": {
             "colorbar": {
              "outlinewidth": 0,
              "ticks": ""
             }
            },
            "type": "histogram"
           }
          ],
          "histogram2d": [
           {
            "colorbar": {
             "outlinewidth": 0,
             "ticks": ""
            },
            "colorscale": [
             [
              0,
              "#0d0887"
             ],
             [
              0.1111111111111111,
              "#46039f"
             ],
             [
              0.2222222222222222,
              "#7201a8"
             ],
             [
              0.3333333333333333,
              "#9c179e"
             ],
             [
              0.4444444444444444,
              "#bd3786"
             ],
             [
              0.5555555555555556,
              "#d8576b"
             ],
             [
              0.6666666666666666,
              "#ed7953"
             ],
             [
              0.7777777777777778,
              "#fb9f3a"
             ],
             [
              0.8888888888888888,
              "#fdca26"
             ],
             [
              1,
              "#f0f921"
             ]
            ],
            "type": "histogram2d"
           }
          ],
          "histogram2dcontour": [
           {
            "colorbar": {
             "outlinewidth": 0,
             "ticks": ""
            },
            "colorscale": [
             [
              0,
              "#0d0887"
             ],
             [
              0.1111111111111111,
              "#46039f"
             ],
             [
              0.2222222222222222,
              "#7201a8"
             ],
             [
              0.3333333333333333,
              "#9c179e"
             ],
             [
              0.4444444444444444,
              "#bd3786"
             ],
             [
              0.5555555555555556,
              "#d8576b"
             ],
             [
              0.6666666666666666,
              "#ed7953"
             ],
             [
              0.7777777777777778,
              "#fb9f3a"
             ],
             [
              0.8888888888888888,
              "#fdca26"
             ],
             [
              1,
              "#f0f921"
             ]
            ],
            "type": "histogram2dcontour"
           }
          ],
          "mesh3d": [
           {
            "colorbar": {
             "outlinewidth": 0,
             "ticks": ""
            },
            "type": "mesh3d"
           }
          ],
          "parcoords": [
           {
            "line": {
             "colorbar": {
              "outlinewidth": 0,
              "ticks": ""
             }
            },
            "type": "parcoords"
           }
          ],
          "scatter": [
           {
            "marker": {
             "colorbar": {
              "outlinewidth": 0,
              "ticks": ""
             }
            },
            "type": "scatter"
           }
          ],
          "scatter3d": [
           {
            "line": {
             "colorbar": {
              "outlinewidth": 0,
              "ticks": ""
             }
            },
            "marker": {
             "colorbar": {
              "outlinewidth": 0,
              "ticks": ""
             }
            },
            "type": "scatter3d"
           }
          ],
          "scattercarpet": [
           {
            "marker": {
             "colorbar": {
              "outlinewidth": 0,
              "ticks": ""
             }
            },
            "type": "scattercarpet"
           }
          ],
          "scattergeo": [
           {
            "marker": {
             "colorbar": {
              "outlinewidth": 0,
              "ticks": ""
             }
            },
            "type": "scattergeo"
           }
          ],
          "scattergl": [
           {
            "marker": {
             "colorbar": {
              "outlinewidth": 0,
              "ticks": ""
             }
            },
            "type": "scattergl"
           }
          ],
          "scattermapbox": [
           {
            "marker": {
             "colorbar": {
              "outlinewidth": 0,
              "ticks": ""
             }
            },
            "type": "scattermapbox"
           }
          ],
          "scatterpolar": [
           {
            "marker": {
             "colorbar": {
              "outlinewidth": 0,
              "ticks": ""
             }
            },
            "type": "scatterpolar"
           }
          ],
          "scatterpolargl": [
           {
            "marker": {
             "colorbar": {
              "outlinewidth": 0,
              "ticks": ""
             }
            },
            "type": "scatterpolargl"
           }
          ],
          "scatterternary": [
           {
            "marker": {
             "colorbar": {
              "outlinewidth": 0,
              "ticks": ""
             }
            },
            "type": "scatterternary"
           }
          ],
          "surface": [
           {
            "colorbar": {
             "outlinewidth": 0,
             "ticks": ""
            },
            "colorscale": [
             [
              0,
              "#0d0887"
             ],
             [
              0.1111111111111111,
              "#46039f"
             ],
             [
              0.2222222222222222,
              "#7201a8"
             ],
             [
              0.3333333333333333,
              "#9c179e"
             ],
             [
              0.4444444444444444,
              "#bd3786"
             ],
             [
              0.5555555555555556,
              "#d8576b"
             ],
             [
              0.6666666666666666,
              "#ed7953"
             ],
             [
              0.7777777777777778,
              "#fb9f3a"
             ],
             [
              0.8888888888888888,
              "#fdca26"
             ],
             [
              1,
              "#f0f921"
             ]
            ],
            "type": "surface"
           }
          ],
          "table": [
           {
            "cells": {
             "fill": {
              "color": "#EBF0F8"
             },
             "line": {
              "color": "white"
             }
            },
            "header": {
             "fill": {
              "color": "#C8D4E3"
             },
             "line": {
              "color": "white"
             }
            },
            "type": "table"
           }
          ]
         },
         "layout": {
          "annotationdefaults": {
           "arrowcolor": "#2a3f5f",
           "arrowhead": 0,
           "arrowwidth": 1
          },
          "colorscale": {
           "diverging": [
            [
             0,
             "#8e0152"
            ],
            [
             0.1,
             "#c51b7d"
            ],
            [
             0.2,
             "#de77ae"
            ],
            [
             0.3,
             "#f1b6da"
            ],
            [
             0.4,
             "#fde0ef"
            ],
            [
             0.5,
             "#f7f7f7"
            ],
            [
             0.6,
             "#e6f5d0"
            ],
            [
             0.7,
             "#b8e186"
            ],
            [
             0.8,
             "#7fbc41"
            ],
            [
             0.9,
             "#4d9221"
            ],
            [
             1,
             "#276419"
            ]
           ],
           "sequential": [
            [
             0,
             "#0d0887"
            ],
            [
             0.1111111111111111,
             "#46039f"
            ],
            [
             0.2222222222222222,
             "#7201a8"
            ],
            [
             0.3333333333333333,
             "#9c179e"
            ],
            [
             0.4444444444444444,
             "#bd3786"
            ],
            [
             0.5555555555555556,
             "#d8576b"
            ],
            [
             0.6666666666666666,
             "#ed7953"
            ],
            [
             0.7777777777777778,
             "#fb9f3a"
            ],
            [
             0.8888888888888888,
             "#fdca26"
            ],
            [
             1,
             "#f0f921"
            ]
           ],
           "sequentialminus": [
            [
             0,
             "#0d0887"
            ],
            [
             0.1111111111111111,
             "#46039f"
            ],
            [
             0.2222222222222222,
             "#7201a8"
            ],
            [
             0.3333333333333333,
             "#9c179e"
            ],
            [
             0.4444444444444444,
             "#bd3786"
            ],
            [
             0.5555555555555556,
             "#d8576b"
            ],
            [
             0.6666666666666666,
             "#ed7953"
            ],
            [
             0.7777777777777778,
             "#fb9f3a"
            ],
            [
             0.8888888888888888,
             "#fdca26"
            ],
            [
             1,
             "#f0f921"
            ]
           ]
          },
          "colorway": [
           "#636efa",
           "#EF553B",
           "#00cc96",
           "#ab63fa",
           "#FFA15A",
           "#19d3f3",
           "#FF6692",
           "#B6E880",
           "#FF97FF",
           "#FECB52"
          ],
          "font": {
           "color": "#2a3f5f"
          },
          "geo": {
           "bgcolor": "white",
           "lakecolor": "white",
           "landcolor": "#E5ECF6",
           "showlakes": true,
           "showland": true,
           "subunitcolor": "white"
          },
          "hoverlabel": {
           "align": "left"
          },
          "hovermode": "closest",
          "mapbox": {
           "style": "light"
          },
          "paper_bgcolor": "white",
          "plot_bgcolor": "#E5ECF6",
          "polar": {
           "angularaxis": {
            "gridcolor": "white",
            "linecolor": "white",
            "ticks": ""
           },
           "bgcolor": "#E5ECF6",
           "radialaxis": {
            "gridcolor": "white",
            "linecolor": "white",
            "ticks": ""
           }
          },
          "scene": {
           "xaxis": {
            "backgroundcolor": "#E5ECF6",
            "gridcolor": "white",
            "gridwidth": 2,
            "linecolor": "white",
            "showbackground": true,
            "ticks": "",
            "zerolinecolor": "white"
           },
           "yaxis": {
            "backgroundcolor": "#E5ECF6",
            "gridcolor": "white",
            "gridwidth": 2,
            "linecolor": "white",
            "showbackground": true,
            "ticks": "",
            "zerolinecolor": "white"
           },
           "zaxis": {
            "backgroundcolor": "#E5ECF6",
            "gridcolor": "white",
            "gridwidth": 2,
            "linecolor": "white",
            "showbackground": true,
            "ticks": "",
            "zerolinecolor": "white"
           }
          },
          "shapedefaults": {
           "line": {
            "color": "#2a3f5f"
           }
          },
          "ternary": {
           "aaxis": {
            "gridcolor": "white",
            "linecolor": "white",
            "ticks": ""
           },
           "baxis": {
            "gridcolor": "white",
            "linecolor": "white",
            "ticks": ""
           },
           "bgcolor": "#E5ECF6",
           "caxis": {
            "gridcolor": "white",
            "linecolor": "white",
            "ticks": ""
           }
          },
          "title": {
           "x": 0.05
          },
          "xaxis": {
           "automargin": true,
           "gridcolor": "white",
           "linecolor": "white",
           "ticks": "",
           "zerolinecolor": "white",
           "zerolinewidth": 2
          },
          "yaxis": {
           "automargin": true,
           "gridcolor": "white",
           "linecolor": "white",
           "ticks": "",
           "zerolinecolor": "white",
           "zerolinewidth": 2
          }
         }
        },
        "title": {
         "text": "Inversión Pasiva"
        },
        "width": 900,
        "xaxis": {
         "anchor": "y",
         "domain": [
          0,
          0.98
         ],
         "title": {
          "text": "timestamp"
         }
        },
        "yaxis": {
         "anchor": "x",
         "domain": [
          0,
          1
         ],
         "title": {
          "text": "capital"
         }
        }
       }
      },
      "text/html": [
       "<div>\n",
       "        \n",
       "        \n",
       "            <div id=\"e5e830dd-7584-422e-a8c2-b981e1f194a2\" class=\"plotly-graph-div\" style=\"height:500px; width:900px;\"></div>\n",
       "            <script type=\"text/javascript\">\n",
       "                require([\"plotly\"], function(Plotly) {\n",
       "                    window.PLOTLYENV=window.PLOTLYENV || {};\n",
       "                    \n",
       "                if (document.getElementById(\"e5e830dd-7584-422e-a8c2-b981e1f194a2\")) {\n",
       "                    Plotly.newPlot(\n",
       "                        'e5e830dd-7584-422e-a8c2-b981e1f194a2',\n",
       "                        [{\"hoverlabel\": {\"namelength\": 0}, \"hovertemplate\": \"timestamp=%{x}<br>capital=%{y}\", \"legendgroup\": \"\", \"line\": {\"color\": \"green\", \"dash\": \"solid\"}, \"mode\": \"lines\", \"name\": \"\", \"showlegend\": false, \"type\": \"scatter\", \"x\": [\"30-01-2018\", \"31-01-2018\", \"28-02-2018\", \"28-03-2018\", \"30-04-2018\", \"31-05-2018\", \"29-06-2018\", \"31-07-2018\", \"31-08-2018\", \"28-09-2018\", \"31-10-2018\", \"30-11-2018\", \"31-12-2018\", \"31-01-2019\", \"28-02-2019\", \"29-03-2019\", \"30-04-2019\", \"31-05-2019\", \"28-06-2019\", \"31-07-2019\", \"30-08-2019\", \"30-09-2019\", \"31-10-2019\", \"29-11-2019\", \"31-12-2019\", \"31-01-2020\", \"28-02-2020\", \"31-03-2020\", \"30-04-2020\", \"29-05-2020\", \"30-06-2020\", \"31-07-2020\", \"21-08-2020\"], \"xaxis\": \"x\", \"y\": [1000000.0, 998805.36, 943330.67, 918905.55, 961771.83, 890500.28, 949877.58, 985791.65, 984427.59, 983479.62, 878821.1, 838086.11, 835787.89, 880392.16, 858747.3, 865519.68, 888034.6, 854899.09, 861786.41, 822069.24, 856926.41, 865421.39, 873212.93, 863293.64, 878762.02, 888198.72, 832224.46, 702813.42, 743778.01, 737085.87, 766673.15, 753502.17, 774727.83], \"yaxis\": \"y\"}],\n",
       "                        {\"height\": 500, \"legend\": {\"tracegroupgap\": 0}, \"template\": {\"data\": {\"bar\": [{\"error_x\": {\"color\": \"#2a3f5f\"}, \"error_y\": {\"color\": \"#2a3f5f\"}, \"marker\": {\"line\": {\"color\": \"#E5ECF6\", \"width\": 0.5}}, \"type\": \"bar\"}], \"barpolar\": [{\"marker\": {\"line\": {\"color\": \"#E5ECF6\", \"width\": 0.5}}, \"type\": \"barpolar\"}], \"carpet\": [{\"aaxis\": {\"endlinecolor\": \"#2a3f5f\", \"gridcolor\": \"white\", \"linecolor\": \"white\", \"minorgridcolor\": \"white\", \"startlinecolor\": \"#2a3f5f\"}, \"baxis\": {\"endlinecolor\": \"#2a3f5f\", \"gridcolor\": \"white\", \"linecolor\": \"white\", \"minorgridcolor\": \"white\", \"startlinecolor\": \"#2a3f5f\"}, \"type\": \"carpet\"}], \"choropleth\": [{\"colorbar\": {\"outlinewidth\": 0, \"ticks\": \"\"}, \"type\": \"choropleth\"}], \"contour\": [{\"colorbar\": {\"outlinewidth\": 0, \"ticks\": \"\"}, \"colorscale\": [[0.0, \"#0d0887\"], [0.1111111111111111, \"#46039f\"], [0.2222222222222222, \"#7201a8\"], [0.3333333333333333, \"#9c179e\"], [0.4444444444444444, \"#bd3786\"], [0.5555555555555556, \"#d8576b\"], [0.6666666666666666, \"#ed7953\"], [0.7777777777777778, \"#fb9f3a\"], [0.8888888888888888, \"#fdca26\"], [1.0, \"#f0f921\"]], \"type\": \"contour\"}], \"contourcarpet\": [{\"colorbar\": {\"outlinewidth\": 0, \"ticks\": \"\"}, \"type\": \"contourcarpet\"}], \"heatmap\": [{\"colorbar\": {\"outlinewidth\": 0, \"ticks\": \"\"}, \"colorscale\": [[0.0, \"#0d0887\"], [0.1111111111111111, \"#46039f\"], [0.2222222222222222, \"#7201a8\"], [0.3333333333333333, \"#9c179e\"], [0.4444444444444444, \"#bd3786\"], [0.5555555555555556, \"#d8576b\"], [0.6666666666666666, \"#ed7953\"], [0.7777777777777778, \"#fb9f3a\"], [0.8888888888888888, \"#fdca26\"], [1.0, \"#f0f921\"]], \"type\": \"heatmap\"}], \"heatmapgl\": [{\"colorbar\": {\"outlinewidth\": 0, \"ticks\": \"\"}, \"colorscale\": [[0.0, \"#0d0887\"], [0.1111111111111111, \"#46039f\"], [0.2222222222222222, \"#7201a8\"], [0.3333333333333333, \"#9c179e\"], [0.4444444444444444, \"#bd3786\"], [0.5555555555555556, \"#d8576b\"], [0.6666666666666666, \"#ed7953\"], [0.7777777777777778, \"#fb9f3a\"], [0.8888888888888888, \"#fdca26\"], [1.0, \"#f0f921\"]], \"type\": \"heatmapgl\"}], \"histogram\": [{\"marker\": {\"colorbar\": {\"outlinewidth\": 0, \"ticks\": \"\"}}, \"type\": \"histogram\"}], \"histogram2d\": [{\"colorbar\": {\"outlinewidth\": 0, \"ticks\": \"\"}, \"colorscale\": [[0.0, \"#0d0887\"], [0.1111111111111111, \"#46039f\"], [0.2222222222222222, \"#7201a8\"], [0.3333333333333333, \"#9c179e\"], [0.4444444444444444, \"#bd3786\"], [0.5555555555555556, \"#d8576b\"], [0.6666666666666666, \"#ed7953\"], [0.7777777777777778, \"#fb9f3a\"], [0.8888888888888888, \"#fdca26\"], [1.0, \"#f0f921\"]], \"type\": \"histogram2d\"}], \"histogram2dcontour\": [{\"colorbar\": {\"outlinewidth\": 0, \"ticks\": \"\"}, \"colorscale\": [[0.0, \"#0d0887\"], [0.1111111111111111, \"#46039f\"], [0.2222222222222222, \"#7201a8\"], [0.3333333333333333, \"#9c179e\"], [0.4444444444444444, \"#bd3786\"], [0.5555555555555556, \"#d8576b\"], [0.6666666666666666, \"#ed7953\"], [0.7777777777777778, \"#fb9f3a\"], [0.8888888888888888, \"#fdca26\"], [1.0, \"#f0f921\"]], \"type\": \"histogram2dcontour\"}], \"mesh3d\": [{\"colorbar\": {\"outlinewidth\": 0, \"ticks\": \"\"}, \"type\": \"mesh3d\"}], \"parcoords\": [{\"line\": {\"colorbar\": {\"outlinewidth\": 0, \"ticks\": \"\"}}, \"type\": \"parcoords\"}], \"scatter\": [{\"marker\": {\"colorbar\": {\"outlinewidth\": 0, \"ticks\": \"\"}}, \"type\": \"scatter\"}], \"scatter3d\": [{\"line\": {\"colorbar\": {\"outlinewidth\": 0, \"ticks\": \"\"}}, \"marker\": {\"colorbar\": {\"outlinewidth\": 0, \"ticks\": \"\"}}, \"type\": \"scatter3d\"}], \"scattercarpet\": [{\"marker\": {\"colorbar\": {\"outlinewidth\": 0, \"ticks\": \"\"}}, \"type\": \"scattercarpet\"}], \"scattergeo\": [{\"marker\": {\"colorbar\": {\"outlinewidth\": 0, \"ticks\": \"\"}}, \"type\": \"scattergeo\"}], \"scattergl\": [{\"marker\": {\"colorbar\": {\"outlinewidth\": 0, \"ticks\": \"\"}}, \"type\": \"scattergl\"}], \"scattermapbox\": [{\"marker\": {\"colorbar\": {\"outlinewidth\": 0, \"ticks\": \"\"}}, \"type\": \"scattermapbox\"}], \"scatterpolar\": [{\"marker\": {\"colorbar\": {\"outlinewidth\": 0, \"ticks\": \"\"}}, \"type\": \"scatterpolar\"}], \"scatterpolargl\": [{\"marker\": {\"colorbar\": {\"outlinewidth\": 0, \"ticks\": \"\"}}, \"type\": \"scatterpolargl\"}], \"scatterternary\": [{\"marker\": {\"colorbar\": {\"outlinewidth\": 0, \"ticks\": \"\"}}, \"type\": \"scatterternary\"}], \"surface\": [{\"colorbar\": {\"outlinewidth\": 0, \"ticks\": \"\"}, \"colorscale\": [[0.0, \"#0d0887\"], [0.1111111111111111, \"#46039f\"], [0.2222222222222222, \"#7201a8\"], [0.3333333333333333, \"#9c179e\"], [0.4444444444444444, \"#bd3786\"], [0.5555555555555556, \"#d8576b\"], [0.6666666666666666, \"#ed7953\"], [0.7777777777777778, \"#fb9f3a\"], [0.8888888888888888, \"#fdca26\"], [1.0, \"#f0f921\"]], \"type\": \"surface\"}], \"table\": [{\"cells\": {\"fill\": {\"color\": \"#EBF0F8\"}, \"line\": {\"color\": \"white\"}}, \"header\": {\"fill\": {\"color\": \"#C8D4E3\"}, \"line\": {\"color\": \"white\"}}, \"type\": \"table\"}]}, \"layout\": {\"annotationdefaults\": {\"arrowcolor\": \"#2a3f5f\", \"arrowhead\": 0, \"arrowwidth\": 1}, \"colorscale\": {\"diverging\": [[0, \"#8e0152\"], [0.1, \"#c51b7d\"], [0.2, \"#de77ae\"], [0.3, \"#f1b6da\"], [0.4, \"#fde0ef\"], [0.5, \"#f7f7f7\"], [0.6, \"#e6f5d0\"], [0.7, \"#b8e186\"], [0.8, \"#7fbc41\"], [0.9, \"#4d9221\"], [1, \"#276419\"]], \"sequential\": [[0.0, \"#0d0887\"], [0.1111111111111111, \"#46039f\"], [0.2222222222222222, \"#7201a8\"], [0.3333333333333333, \"#9c179e\"], [0.4444444444444444, \"#bd3786\"], [0.5555555555555556, \"#d8576b\"], [0.6666666666666666, \"#ed7953\"], [0.7777777777777778, \"#fb9f3a\"], [0.8888888888888888, \"#fdca26\"], [1.0, \"#f0f921\"]], \"sequentialminus\": [[0.0, \"#0d0887\"], [0.1111111111111111, \"#46039f\"], [0.2222222222222222, \"#7201a8\"], [0.3333333333333333, \"#9c179e\"], [0.4444444444444444, \"#bd3786\"], [0.5555555555555556, \"#d8576b\"], [0.6666666666666666, \"#ed7953\"], [0.7777777777777778, \"#fb9f3a\"], [0.8888888888888888, \"#fdca26\"], [1.0, \"#f0f921\"]]}, \"colorway\": [\"#636efa\", \"#EF553B\", \"#00cc96\", \"#ab63fa\", \"#FFA15A\", \"#19d3f3\", \"#FF6692\", \"#B6E880\", \"#FF97FF\", \"#FECB52\"], \"font\": {\"color\": \"#2a3f5f\"}, \"geo\": {\"bgcolor\": \"white\", \"lakecolor\": \"white\", \"landcolor\": \"#E5ECF6\", \"showlakes\": true, \"showland\": true, \"subunitcolor\": \"white\"}, \"hoverlabel\": {\"align\": \"left\"}, \"hovermode\": \"closest\", \"mapbox\": {\"style\": \"light\"}, \"paper_bgcolor\": \"white\", \"plot_bgcolor\": \"#E5ECF6\", \"polar\": {\"angularaxis\": {\"gridcolor\": \"white\", \"linecolor\": \"white\", \"ticks\": \"\"}, \"bgcolor\": \"#E5ECF6\", \"radialaxis\": {\"gridcolor\": \"white\", \"linecolor\": \"white\", \"ticks\": \"\"}}, \"scene\": {\"xaxis\": {\"backgroundcolor\": \"#E5ECF6\", \"gridcolor\": \"white\", \"gridwidth\": 2, \"linecolor\": \"white\", \"showbackground\": true, \"ticks\": \"\", \"zerolinecolor\": \"white\"}, \"yaxis\": {\"backgroundcolor\": \"#E5ECF6\", \"gridcolor\": \"white\", \"gridwidth\": 2, \"linecolor\": \"white\", \"showbackground\": true, \"ticks\": \"\", \"zerolinecolor\": \"white\"}, \"zaxis\": {\"backgroundcolor\": \"#E5ECF6\", \"gridcolor\": \"white\", \"gridwidth\": 2, \"linecolor\": \"white\", \"showbackground\": true, \"ticks\": \"\", \"zerolinecolor\": \"white\"}}, \"shapedefaults\": {\"line\": {\"color\": \"#2a3f5f\"}}, \"ternary\": {\"aaxis\": {\"gridcolor\": \"white\", \"linecolor\": \"white\", \"ticks\": \"\"}, \"baxis\": {\"gridcolor\": \"white\", \"linecolor\": \"white\", \"ticks\": \"\"}, \"bgcolor\": \"#E5ECF6\", \"caxis\": {\"gridcolor\": \"white\", \"linecolor\": \"white\", \"ticks\": \"\"}}, \"title\": {\"x\": 0.05}, \"xaxis\": {\"automargin\": true, \"gridcolor\": \"white\", \"linecolor\": \"white\", \"ticks\": \"\", \"zerolinecolor\": \"white\", \"zerolinewidth\": 2}, \"yaxis\": {\"automargin\": true, \"gridcolor\": \"white\", \"linecolor\": \"white\", \"ticks\": \"\", \"zerolinecolor\": \"white\", \"zerolinewidth\": 2}}}, \"title\": {\"text\": \"Inversi\\u00f3n Pasiva\"}, \"width\": 900, \"xaxis\": {\"anchor\": \"y\", \"domain\": [0.0, 0.98], \"title\": {\"text\": \"timestamp\"}}, \"yaxis\": {\"anchor\": \"x\", \"domain\": [0.0, 1.0], \"title\": {\"text\": \"capital\"}}},\n",
       "                        {\"responsive\": true}\n",
       "                    ).then(function(){\n",
       "                            \n",
       "var gd = document.getElementById('e5e830dd-7584-422e-a8c2-b981e1f194a2');\n",
       "var x = new MutationObserver(function (mutations, observer) {{\n",
       "        var display = window.getComputedStyle(gd).display;\n",
       "        if (!display || display === 'none') {{\n",
       "            console.log([gd, 'removed!']);\n",
       "            Plotly.purge(gd);\n",
       "            observer.disconnect();\n",
       "        }}\n",
       "}});\n",
       "\n",
       "// Listen for the removal of the full notebook cells\n",
       "var notebookContainer = gd.closest('#notebook-container');\n",
       "if (notebookContainer) {{\n",
       "    x.observe(notebookContainer, {childList: true});\n",
       "}}\n",
       "\n",
       "// Listen for the clearing of the current output cell\n",
       "var outputEl = gd.closest('.output');\n",
       "if (outputEl) {{\n",
       "    x.observe(outputEl, {childList: true});\n",
       "}}\n",
       "\n",
       "                        })\n",
       "                };\n",
       "                });\n",
       "            </script>\n",
       "        </div>"
      ]
     },
     "metadata": {},
     "output_type": "display_data"
    }
   ],
   "source": [
    "import plotly.express as px\n",
    "fig = px.line(df_pasiva, x='timestamp', y='capital', title = \"Inversión Pasiva\", color_discrete_sequence=['green'], \n",
    "              width=900, height=500)\n",
    "fig.show()"
   ]
  },
  {
   "cell_type": "markdown",
   "metadata": {},
   "source": [
    "<font color= #6B6B6B> <font size = 6> **5. Conclusiones** </font>"
   ]
  },
  {
   "cell_type": "markdown",
   "metadata": {},
   "source": [
    "***"
   ]
  },
  {
   "cell_type": "code",
   "execution_count": 10,
   "metadata": {},
   "outputs": [],
   "source": [
    "# en esta seccion es opcional incluir algun codigo para mostrar\n",
    "# visualmente algun concepto o hallazgo relevante como conclusion"
   ]
  }
 ],
 "metadata": {
  "kernelspec": {
   "display_name": "Python 3",
   "language": "python",
   "name": "python3"
  },
  "language_info": {
   "codemirror_mode": {
    "name": "ipython",
    "version": 3
   },
   "file_extension": ".py",
   "mimetype": "text/x-python",
   "name": "python",
   "nbconvert_exporter": "python",
   "pygments_lexer": "ipython3",
   "version": "3.8.3"
  }
 },
 "nbformat": 4,
 "nbformat_minor": 1
}
